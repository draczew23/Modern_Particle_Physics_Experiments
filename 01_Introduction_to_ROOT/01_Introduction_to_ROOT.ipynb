{
 "cells": [
  {
   "cell_type": "markdown",
   "metadata": {
    "colab_type": "text",
    "id": "MonTGYfCIDu_",
    "tags": []
   },
   "source": [
    "# Introduction to ROOT package\n",
    "Author: Marcin Konecki\n",
    "# Example 0\n",
    "type root in shell and try some simple calculations, draw simple TF1 function and browse a root file"
   ]
  },
  {
   "cell_type": "markdown",
   "metadata": {},
   "source": [
    "# Example 1 - histogramming"
   ]
  },
  {
   "cell_type": "code",
   "execution_count": 1,
   "metadata": {
    "tags": []
   },
   "outputs": [
    {
     "name": "stdout",
     "output_type": "stream",
     "text": [
      "Welcome to JupyROOT 6.24/04\n",
      "number of    throws1: 137, number of throws2: 137\n",
      "number of all throws: 274, number of combined throws: 137\n",
      "-----------\n"
     ]
    }
   ],
   "source": [
    "#! /usr/bin/env python\n",
    "# -*- coding: utf-8 -*-\n",
    "\n",
    "import sys\n",
    "from ROOT import *\n",
    "from readData import readData \n",
    "import numpy as np\n",
    "\n",
    "\n",
    "#\n",
    "# read data \n",
    "#\n",
    "throw1 = []\n",
    "throw2 = []\n",
    "readData('data_dice.txt', throw1, throw2)\n",
    "\n",
    "#\n",
    "# print data \n",
    "#\n",
    "allDice=throw1+throw2\n",
    "sumDice=np.add(throw1,throw2)\n",
    "print ('number of    throws1: {0:2d}, number of throws2: {1:2d}'.format(len(throw1),len(throw2)) )\n",
    "print ('number of all throws: {0:2d}, number of combined throws: {1:2d}'.format(len(allDice),len(sumDice)) )\n",
    "\n",
    "\n",
    "#\n",
    "# define a Canva and histogram\n",
    "#\n",
    "c = TCanvas('cDice','cDice',1000,500)\n",
    "c.Divide(2,1)\n",
    "hDice = TH1D('hDice','All throws; dice; #events',6,0.5,6.5)\n",
    "hDice.Sumw2()\n",
    "hDiceSum = TH1D('hDiceSum','Throw 1 and 2 combined; sum of dice; #events',12,0.5,12.5)\n",
    "hDiceSum.Sumw2()\n",
    "\n",
    "# decorations \n",
    "hDice.SetMinimum(0) \n",
    "hDice.GetXaxis().SetNdivisions(106)\n",
    "hDice.SetStats(0)\n",
    "hDice.SetFillStyle(1)\n",
    "#hDice.SetLineColor(kRed)\n",
    "hDice.SetLineWidth(1)\n",
    "hDice.SetLineStyle(3)\n",
    "hDice.SetBarWidth(0.8)\n",
    "hDice.SetBarOffset(0.1)\n",
    "c.SetGrid(0,1)\n",
    "\n",
    "for i in range(len(allDice)) :\n",
    "  hDice.Fill( allDice[i])\n",
    "for i in range(len(sumDice)) :\n",
    "  hDiceSum.Fill( sumDice[i])\n",
    "\n",
    "c.cd(1)\n",
    "hDice.DrawCopy('b histo')\n",
    "c.cd(2)\n",
    "#hDiceSum.Print(\"all\")\n",
    "hDiceSum.DrawCopy('histo')\n",
    "print('-----------')\n",
    "c.Print('cDice.png')\n",
    "#input('press enter to store histo and exit')\n",
    "outfile=TFile.Open('histos.root',\"RECREATE\")\n",
    "outfile.cd()\n",
    "hDice.Write()\n",
    "hDiceSum.Write()\n",
    "outfile.Close()"
   ]
  },
  {
   "cell_type": "code",
   "execution_count": 3,
   "metadata": {
    "tags": []
   },
   "outputs": [
    {
     "data": {
      "image/png": "[encoded data removed]",
      "text/plain": [
       "<IPython.core.display.Image object>"
      ]
     },
     "execution_count": 3,
     "metadata": {},
     "output_type": "execute_result"
    }
   ],
   "source": [
    "from IPython.display import Image\n",
    "Image(filename='cDice.png')"
   ]
  },
  {
   "cell_type": "markdown",
   "metadata": {},
   "source": [
    "# Example 2 \n",
    "access to histograms, graphs, decorations"
   ]
  },
  {
   "cell_type": "code",
   "execution_count": 4,
   "metadata": {
    "tags": []
   },
   "outputs": [
    {
     "name": "stdout",
     "output_type": "stream",
     "text": [
      "sum of entries:  274.0\n",
      "integral:        274.0\n",
      "integral:        1.0\n",
      "bin 1 [ 0.50, 1.50[ = 0.186\n",
      "bin 2 [ 1.50, 2.50[ = 0.193\n",
      "bin 3 [ 2.50, 3.50[ = 0.168\n",
      "bin 4 [ 3.50, 4.50[ = 0.175\n",
      "bin 5 [ 4.50, 5.50[ = 0.139\n",
      "bin 6 [ 5.50, 6.50[ = 0.139\n",
      "TFile**\t\thistos.root\t\n",
      " TFile*\t\thistos.root\t\n",
      "  KEY: TH1D\thDice;1\tAll throws\n",
      "  KEY: TH1D\thDiceSum;1\tThrow 1 and 2 combined\n"
     ]
    },
    {
     "name": "stderr",
     "output_type": "stream",
     "text": [
      "Info in <TCanvas::Print>: png file cDrawings.png has been created\n"
     ]
    }
   ],
   "source": [
    "#!/usr/bin/python3\n",
    "from ROOT import *\n",
    "f=TFile('histos.root')\n",
    "f.ls()\n",
    "hDice=f.Get('hDice')\n",
    "#hDice.Print(\"all\")\n",
    "\n",
    "print(\"sum of entries: \",hDice.GetEntries())\n",
    "print(\"integral:       \",hDice.Integral() )\n",
    "hDice.Scale(1./hDice.Integral())\n",
    "hDice.SetMarkerStyle(20)\n",
    "hDice.SetMarkerColor(2)\n",
    "hDice.SetMinimum(0.1)\n",
    "hDice.SetMaximum(0.25)\n",
    "print(\"integral:       \",hDice.Integral() )\n",
    "nbins=hDice.GetNbinsX()\n",
    "\n",
    "#acess to content bin-by-bin.\n",
    "# bin==1 underflow\n",
    "# bin=nbins+1 overflow\n",
    "for i in range(1,nbins+1):\n",
    "    print(\"bin %d [%5.2f,%5.2f[ = %4.3f\"% (i,hDice.GetBinLowEdge(i),hDice.GetBinLowEdge(i+1),hDice.GetBinContent(i)))\n",
    "    \n",
    "gr=TGraphErrors(nbins)\n",
    "gr.SetMarkerStyle(21)\n",
    "gr.SetMarkerColor(2)\n",
    "for i in range(nbins):\n",
    "    gr.SetPoint(i,hDice.GetBinCenter(i+1), hDice.GetBinContent(i+1))\n",
    "    gr.SetPointError(i, 0., hDice.GetBinError(i+1))\n",
    "\n",
    "c=TCanvas('cDrawings','simple drawings',1200,500)\n",
    "c.Divide(3,1)\n",
    "c.cd(1)\n",
    "hDice.DrawCopy('hist e')\n",
    "c.cd(2)\n",
    "gr.Draw('AC PX')\n",
    "c.cd(3)\n",
    "hNull=hDice.Clone()\n",
    "hNull.SetTitle('Histo and Graph')\n",
    "hNull.DrawCopy('hist')\n",
    "gr.Draw('PZ')\n",
    "\n",
    "c.Print('cDrawings.png')\n",
    "    "
   ]
  },
  {
   "cell_type": "code",
   "execution_count": 5,
   "metadata": {},
   "outputs": [
    {
     "data": {
      "image/png": "[encoded data removed]",
      "text/plain": [
       "<IPython.core.display.Image object>"
      ]
     },
     "execution_count": 5,
     "metadata": {},
     "output_type": "execute_result"
    }
   ],
   "source": [
    "from IPython.display import Image\n",
    "Image(filename='cDrawings.png')"
   ]
  },
  {
   "cell_type": "markdown",
   "metadata": {},
   "source": [
    "# Example 3 - functions"
   ]
  },
  {
   "cell_type": "code",
   "execution_count": 6,
   "metadata": {},
   "outputs": [
    {
     "name": "stderr",
     "output_type": "stream",
     "text": [
      "Info in <TCanvas::Print>: png file ./cFunctions.png has been created\n"
     ]
    }
   ],
   "source": [
    "#!/usr/bin/python3\n",
    "import math\n",
    "from ROOT import *\n",
    "\n",
    "cFunctions=TCanvas('cFunctions')\n",
    "f1=TF1(\"f1\",\"[0]*x*sin([1]*x)\",0.,10.)\n",
    "f1.SetParameter(0,5.)\n",
    "f1.SetParameter(1,1.)\n",
    "f1.SetLineColor(kYellow)\n",
    "f1.DrawCopy()\n",
    "\n",
    "f2=TF1('f2','gaus(x,[0..2])*expo(x,[3..4])',0.,10.)\n",
    "f2.SetParameter(0,0.1)\n",
    "f2.SetParameter(1,1.)\n",
    "f2.SetParameter(2,1.)\n",
    "f2.SetParameter(3,3.)\n",
    "f2.SetParameter(4,1.)\n",
    "f2.SetLineColor(kRed)\n",
    "f2.DrawCopy('same')\n",
    "\n",
    "def mySin(x, par):\n",
    "    return par[0]*sin(par[1]*x[0])\n",
    "\n",
    "f3 = TF1('f3',mySin, 0., 10., 2)\n",
    "f3.SetParameter(0, 20.);\n",
    "f3.SetParameter(1, 0.5);\n",
    "f3.SetLineColor(kBlue)\n",
    "f3.DrawCopy('same')\n",
    "\n",
    "legend=TLegend(0.1,25,4.,40.,\"\",\"\")\n",
    "legend.AddEntry(f1,'[0]*x*sin([1]*x)')\n",
    "legend.AddEntry(f2,'gaus(0)*expo(3)')\n",
    "legend.AddEntry(f3,'mySin')\n",
    "legend.Draw()\n",
    "\n",
    "cFunctions.Update()\n",
    "cFunctions.Print('.png')"
   ]
  },
  {
   "cell_type": "code",
   "execution_count": 7,
   "metadata": {},
   "outputs": [
    {
     "data": {
      "image/png": "[encoded data removed]",
      "text/plain": [
       "<IPython.core.display.Image object>"
      ]
     },
     "execution_count": 7,
     "metadata": {},
     "output_type": "execute_result"
    }
   ],
   "source": [
    "from IPython.display import Image\n",
    "Image(filename='cFunctions.png')"
   ]
  },
  {
   "cell_type": "markdown",
   "metadata": {
    "tags": []
   },
   "source": [
    "# Example 4 - uniform random number generator"
   ]
  },
  {
   "cell_type": "code",
   "execution_count": 8,
   "metadata": {
    "tags": []
   },
   "outputs": [
    {
     "name": "stderr",
     "output_type": "stream",
     "text": [
      "Info in <TCanvas::Print>: png file ./cFlat.png has been created\n"
     ]
    }
   ],
   "source": [
    "#!/usr/bin/python3\n",
    "import math\n",
    "from ROOT import *\n",
    "\n",
    "gRandom.SetSeed(2018)\n",
    "def myDistr() :\n",
    "  val = gRandom.Uniform(1.)\n",
    "  if val < 0.5 : val -= 0.5 \n",
    "  else: val += 0.5 \n",
    "  return val\n",
    "\n",
    "sigma = math.sqrt(7./12)\n",
    "mu = 0.5\n",
    "\n",
    "def main() :\n",
    "  cFlat = TCanvas('cFlat','cFlat',800,600)\n",
    "  hVal = TH1D('hVal','flat*2',300, -1., 2.)\n",
    "  hVal.SetStats(0)\n",
    "\n",
    "  for i in  range(1000000) :\n",
    "    val=myDistr()\n",
    "    hVal.Fill(val)\n",
    "\n",
    "  hVal.Draw()\n",
    "  cFlat.Update()\n",
    "  cFlat.Print('.png')\n",
    "\n",
    "if __name__ == \"__main__\" :\n",
    "  main()\n"
   ]
  },
  {
   "cell_type": "code",
   "execution_count": 9,
   "metadata": {
    "tags": []
   },
   "outputs": [
    {
     "data": {
      "image/png": "[encoded data removed]",
      "text/plain": [
       "<IPython.core.display.Image object>"
      ]
     },
     "execution_count": 9,
     "metadata": {},
     "output_type": "execute_result"
    }
   ],
   "source": [
    "from IPython.display import Image\n",
    "Image(filename='cFlat.png') "
   ]
  },
  {
   "cell_type": "code",
   "execution_count": 10,
   "metadata": {},
   "outputs": [
    {
     "name": "stderr",
     "output_type": "stream",
     "text": [
      "Info in <TCanvas::Print>: png file cCTG.png has been created\n"
     ]
    }
   ],
   "source": [
    "#!/usr/bin/python3\n",
    "\n",
    "import sys\n",
    "import math\n",
    "from ROOT import *\n",
    "\n",
    "from myDistr_2step import myDistr, sigma, mu \n",
    "\n",
    "cCTG = TCanvas('cCTG','cCTG',1000,500)\n",
    "hCTG = TH1D('hCTG','hCTG',100, -5., 5.)\n",
    "hVal = TH1D('hVal','hVal',300, -1., 2.)\n",
    "\n",
    "#\n",
    "# loop over experiments, each gives and average X_i\n",
    "#\n",
    "nDistrib = 50000 #\n",
    "for idist in range (0,nDistrib) :\n",
    "\n",
    "\n",
    "# single try X_i, repeated nProb\n",
    "#\n",
    "  sum = 0\n",
    "  nProb = 25 #enough for average\n",
    "  for proba in range(0,nProb) :\n",
    "    val = myDistr()\n",
    "    hVal.Fill(val)\n",
    "    sum += val\n",
    "  #\n",
    "  # result for singe X_i computation is histogrammed\n",
    "  #\n",
    "  ctg_numerator = (sum/nProb)-mu  \n",
    "  ctg_denominator = sigma/math.sqrt(nProb)\n",
    "  ctg = ctg_numerator/ctg_denominator\n",
    "  hCTG.Fill(ctg)\n",
    "\n",
    "\n",
    "gStyle.SetOptStat(1110)\n",
    "cCTG.Divide(2,1)\n",
    "cCTG.cd(1)\n",
    "gStyle.SetOptStat(1110)\n",
    "hVal.DrawCopy()\n",
    "\n",
    "cCTG.cd(2)\n",
    "hCTG.Scale(1./nDistrib*10)    #10 due to bin whdth\n",
    "hCTG.Draw('hist')\n",
    "\n",
    "g1 = TF1(\"g1\", \"gaus\",-5,5 )\n",
    "sigmaGauss = 1.\n",
    "g1.SetParameter(0, 1./sigmaGauss/math.sqrt(2*math.pi) )\n",
    "g1.SetParameter(1,0)\n",
    "g1.SetParameter(2,sigmaGauss)\n",
    "g1.DrawCopy('same')\n",
    "\n",
    "cCTG.Print(\"cCTG.png\")\n"
   ]
  },
  {
   "cell_type": "code",
   "execution_count": 11,
   "metadata": {
    "tags": []
   },
   "outputs": [
    {
     "data": {
      "image/png": "[encoded data removed]",
      "text/plain": [
       "<IPython.core.display.Image object>"
      ]
     },
     "execution_count": 11,
     "metadata": {},
     "output_type": "execute_result"
    }
   ],
   "source": [
    "from IPython.display import Image\n",
    "Image(filename='cCTG.png') "
   ]
  },
  {
   "cell_type": "markdown",
   "metadata": {},
   "source": [
    "# Example 5 - event processing"
   ]
  },
  {
   "cell_type": "code",
   "execution_count": 17,
   "metadata": {
    "tags": []
   },
   "outputs": [
    {
     "name": "stdout",
     "output_type": "stream",
     "text": [
      "******************************************************************************\n",
      "*Tree    :myTree    : simple tree with vertex data                           *\n",
      "*Entries :      100 : Total =            7431 bytes  File  Size =          0 *\n",
      "*        :          : Tree compression factor =   1.00                       *\n",
      "******************************************************************************\n",
      "*Branch  :vertex                                                             *\n",
      "*Entries :      100 : BranchElement (see below)                              *\n",
      "*............................................................................*\n",
      "*Br    0 :id        : Int_t                                                  *\n",
      "*Entries :      100 : Total  Size=       1035 bytes  One basket in memory    *\n",
      "*Baskets :        0 : Basket Size=      32000 bytes  Compression=   1.00     *\n",
      "*............................................................................*\n",
      "*Br    1 :x         : Double_t                                               *\n",
      "*Entries :      100 : Total  Size=       1429 bytes  One basket in memory    *\n",
      "*Baskets :        0 : Basket Size=      32000 bytes  Compression=   1.00     *\n",
      "*............................................................................*\n",
      "*Br    2 :y         : Double_t                                               *\n",
      "*Entries :      100 : Total  Size=       1429 bytes  One basket in memory    *\n",
      "*Baskets :        0 : Basket Size=      32000 bytes  Compression=   1.00     *\n",
      "*............................................................................*\n",
      "*Br    3 :z         : Double_t                                               *\n",
      "*Entries :      100 : Total  Size=       1429 bytes  One basket in memory    *\n",
      "*Baskets :        0 : Basket Size=      32000 bytes  Compression=   1.00     *\n",
      "*............................................................................*\n",
      "*Br    4 :pid       : pid/I                                                  *\n",
      "*Entries :      100 : Total  Size=       1037 bytes  One basket in memory    *\n",
      "*Baskets :        0 : Basket Size=      32000 bytes  Compression=   1.00     *\n",
      "*............................................................................*\n"
     ]
    }
   ],
   "source": [
    "#! /usr/bin/env python3\n",
    "# -*- coding: utf-8 -*-\n",
    "\n",
    "import sys\n",
    "from ROOT import *\n",
    "from array import array\n",
    "\n",
    "## A C/C++ structure is required, to allow memory based access\n",
    "gROOT.ProcessLine(\n",
    "   \"struct Vertex_t {\\\n",
    "    Int_t id;\\\n",
    "    Double_t x,y,z; \\\n",
    "    double perp() { return sqrt(x*x+y*y); } \\\n",
    "};\")\n",
    "\n",
    "gRandom.SetSeed(2022)\n",
    "vertex = Vertex_t()\n",
    "pid = array('i',[0])\n",
    "\n",
    "f = TFile('myTree.root','RECREATE')\n",
    "myTree  = TTree('myTree','simple tree with vertex data')\n",
    "myTree.Branch('vertex',vertex)\n",
    "myTree.Branch('pid',pid,'pid/I')\n",
    "\n",
    "for i in range(100) :\n",
    "  pid[0] = gRandom.Integer(100)\n",
    "  vertex.id = i\n",
    "  vertex.x = gRandom.Uniform(10.)\n",
    "  vertex.y = gRandom.Uniform(10.)\n",
    "  vertex.z = gRandom.Uniform(200.)\n",
    "  \n",
    "#  print ('vertex id:{0:3d}, perp={1:5.2f}'.format(vertex.id,vertex.perp()))\n",
    "  myTree.Fill()       \n",
    "myTree.Print(\"all\")\n",
    "f.Write()\n",
    "f.Close()  \n"
   ]
  },
  {
   "cell_type": "markdown",
   "metadata": {
    "tags": []
   },
   "source": [
    "# Example 6 - event analysis"
   ]
  },
  {
   "cell_type": "code",
   "execution_count": 14,
   "metadata": {},
   "outputs": [
    {
     "name": "stdout",
     "output_type": "stream",
     "text": [
      "entires: 100\n"
     ]
    }
   ],
   "source": [
    "#! /usr/bin/env python3\n",
    "# -*- coding: utf-8 -*-\n",
    "\n",
    "from ROOT import *\n",
    "from array import array\n",
    "gROOT.ProcessLine(\n",
    " \"struct Vertex_t {\\\n",
    "    Int_t id;\\\n",
    "    Double_t x,y,z; \\\n",
    "    double perp() { return sqrt(x*x+y*y); } \\\n",
    "};\")\n",
    "pid=array('i',[0])\n",
    "myVert=Vertex_t()\n",
    "\n",
    "myChain=TChain('myTree')\n",
    "myChain.Add('myTree.root')\n",
    "myChain.SetBranchAddress(\"vertex\",myVert)\n",
    "myChain.SetBranchAddress(\"pid\",pid)\n",
    "\n",
    "nEntries = myChain.GetEntries()\n",
    "for iev in range (nEntries) :\n",
    "  myChain.GetEntry(iev)\n",
    "print ('entires:',nEntries)\n"
   ]
  },
  {
   "cell_type": "markdown",
   "metadata": {},
   "source": [
    "# Example 7 - Fitting"
   ]
  },
  {
   "cell_type": "code",
   "execution_count": 15,
   "metadata": {},
   "outputs": [
    {
     "name": "stdout",
     "output_type": "stream",
     "text": [
      "point  i: 0  x= 1  y= 2.3305497716275085  error= 0.34535608893314684\n",
      "point  i: 1  x= 3  y= 5.795696359926257  error= 0.54803932026921\n",
      "point  i: 2  x= 4  y= 7.545475724637645  error= 0.9677821648029868\n",
      "point  i: 3  x= 5  y= 6.985439523588833  error= 0.30820130455615974\n",
      "point  i: 4  x= 6  y= 7.815392962723381  error= 0.8897776692388384\n",
      "point  i: 5  x= 7  y= 9.639110678040973  error= 0.6504965737010797\n",
      "point  i: 6  x= 8  y= 9.781325701329177  error= 0.42209576471647786\n",
      " a= 1.0692630421540321  b= 1.6493819900495508\n",
      "sa= 0.0708306842328103  sb= 0.35963991750068286\n",
      "chi2/NDF= 1.7353524377301077\n"
     ]
    },
    {
     "name": "stderr",
     "output_type": "stream",
     "text": [
      "Info in <TCanvas::Print>: png file cFitting.png has been created\n"
     ]
    }
   ],
   "source": [
    "#!/usr/bin/python3\n",
    "\n",
    "import sys\n",
    "import math\n",
    "from ROOT import *\n",
    "\n",
    "def average_meas(points) :\n",
    "  average = 0.\n",
    "  for val in  points:\n",
    "    average += val\n",
    "  average /= len(points)\n",
    "  return average\n",
    "\n",
    "def sigma_meas(points) :\n",
    "  average = average_meas(points)\n",
    "  ss=0.\n",
    "  for point in points: ss+= pow(point-average,2);\n",
    "  sigma = math.sqrt(ss/(len(points)-1))\n",
    "  return sigma\n",
    "\n",
    "\n",
    "x = [ 1,  3,   4,   5,    6,   7,   8]\n",
    "y = []\n",
    "e = []\n",
    "a=1.\n",
    "b=2.\n",
    "s = [ 1., 2., 3., 1., 2.,  3., 1.]\n",
    "g = TF1(\"g\",\"gaus\",-20.,30.)\n",
    "g.SetParameter(0,1.)\n",
    "gRandom.SetSeed(2022)\n",
    "for i in range(len(x)):\n",
    "  mean=a*x[i]+b\n",
    "  g.SetParameter(1,mean)\n",
    "  g.SetParameter(2,s[i])\n",
    "  values = []\n",
    "  nValues =10\n",
    "  for j in range(nValues) :\n",
    "    val = g.GetRandom()\n",
    "    values.append(val)\n",
    "  y.append(average_meas(values))\n",
    "# e.append(s[i]/math.sqrt(nValues))\n",
    "  e.append(sigma_meas(values)/math.sqrt(nValues))\n",
    "  print ('point  i:',i,' x=',x[i],' y=',y[i],' error=',e[i])\n",
    "\n",
    "gr=TGraphErrors(7)\n",
    "gr.SetMarkerColor(4)\n",
    "gr.SetMarkerStyle(21)\n",
    "\n",
    "S=0\n",
    "Sxx=0\n",
    "Sxy=0\n",
    "Sx=0\n",
    "Sy=0\n",
    "\n",
    "for i in range (len(x)) :\n",
    "  gr.SetPoint(i, x[i], y[i])\n",
    "  gr.SetPointError(i, 0.,e[i])\n",
    "\n",
    "  w_i=1./e[i]/e[i]\n",
    "  S+=w_i\n",
    "  Sxx += x[i]*x[i]*w_i\n",
    "  Sx += x[i]*w_i\n",
    "  Sxy += x[i]*y[i]*w_i\n",
    "  Sy += y[i]*w_i\n",
    "  \n",
    "\n",
    "D = S*Sxx-Sx*Sx\n",
    "a = (S*Sxy-Sx*Sy)/D\n",
    "b = (Sxx*Sy-Sx*Sxy)/D\n",
    "\n",
    "\n",
    "c = TCanvas('cFitting','cFitting',600,600)\n",
    "hDummy = TH1D('hDummy','Prosta',100,0.,10.)\n",
    "hDummy.SetMaximum(12.)\n",
    "hDummy.SetMinimum(0.)\n",
    "hDummy.GetXaxis().SetTitle(\"x\")\n",
    "hDummy.GetYaxis().SetTitle(\"y\")\n",
    "hDummy.SetStats(0)\n",
    "hDummy.DrawCopy()\n",
    " \n",
    "gr.Draw('s p')\n",
    "\n",
    "fline = TF1(\"flane\", \"[0]*x+[1]\",0.,9.5)\n",
    "fline.SetParameter(0,a)\n",
    "fline.SetParameter(1,b)\n",
    "fline.Draw('same')\n",
    "\n",
    "c.Print('cFitting.png')\n",
    "\n",
    "chi2 = 0;\n",
    "for i in range (0,7) :\n",
    "  d = (y[i]-(a*x[i]+b))/e[i]\n",
    "  chi2 += d*d\n",
    "print (' a=',a,' b=',b)\n",
    "print ('sa=',math.sqrt(S/D),' sb=',math.sqrt(Sxx/D))\n",
    "print ('chi2/NDF=',chi2/(len(x)-2.))\n",
    "\n"
   ]
  },
  {
   "cell_type": "code",
   "execution_count": 16,
   "metadata": {},
   "outputs": [
    {
     "data": {
      "image/png": "[encoded data removed]",
      "text/plain": [
       "<IPython.core.display.Image object>"
      ]
     },
     "execution_count": 16,
     "metadata": {},
     "output_type": "execute_result"
    }
   ],
   "source": [
    "from IPython.display import Image\n",
    "Image(filename='cFitting.png') "
   ]
  },
  {
   "cell_type": "markdown",
   "metadata": {},
   "source": [
    "# Example 8 - not only pyROOT "
   ]
  },
  {
   "cell_type": "code",
   "execution_count": 15,
   "metadata": {},
   "outputs": [
    {
     "data": {
      "image/png": "[encoded data removed]",
      "text/plain": [
       "<Figure size 432x288 with 1 Axes>"
      ]
     },
     "metadata": {
      "needs_background": "light"
     },
     "output_type": "display_data"
    }
   ],
   "source": [
    "import numpy as np\n",
    "\n",
    "import hist\n",
    "from hist import Hist\n",
    "\n",
    "histo = Hist(hist.axis.Regular(50, -5, 5))\n",
    "\n",
    "data = np.random.randn(10000)\n",
    "\n",
    "histo.fill(data)\n",
    "histo.plot(); \n",
    "\n",
    "for aItem in data:\n",
    "    histo.fill(aItem)\n",
    "    \n",
    "histo.plot();    "
   ]
  },
  {
   "cell_type": "code",
   "execution_count": null,
   "metadata": {},
   "outputs": [],
   "source": []
  }
 ],
 "metadata": {
  "colab": {
   "collapsed_sections": [],
   "name": "01a_Powtórka_numpy.ipynb",
   "provenance": [
    {
     "file_id": "0BzwQ_Lscn8yDWnZVeHU1MjluWFU",
     "timestamp": 1546856440599
    }
   ]
  },
  "kernelspec": {
   "display_name": "Python 3",
   "language": "python",
   "name": "python3"
  },
  "language_info": {
   "codemirror_mode": {
    "name": "ipython",
    "version": 3
   },
   "file_extension": ".py",
   "mimetype": "text/x-python",
   "name": "python",
   "nbconvert_exporter": "python",
   "pygments_lexer": "ipython3",
   "version": "3.9.7"
  }
 },
 "nbformat": 4,
 "nbformat_minor": 4
}
