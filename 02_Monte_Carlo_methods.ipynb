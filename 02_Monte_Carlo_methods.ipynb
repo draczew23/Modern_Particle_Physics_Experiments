{
 "cells": [
  {
   "cell_type": "markdown",
   "metadata": {
    "colab_type": "text",
    "id": "MonTGYfCIDu_",
    "tags": []
   },
   "source": [
    "# Monte Carlo methods\n",
    "Auhtor: Artur Kalinowski"
   ]
  },
  {
   "cell_type": "markdown",
   "metadata": {},
   "source": [
    "## Setup the environment"
   ]
  },
  {
   "cell_type": "code",
   "execution_count": null,
   "metadata": {
    "colab": {},
    "colab_type": "code",
    "id": "P2y_kbTMIDvD"
   },
   "outputs": [],
   "source": [
    "#import ROOT\n",
    "\n",
    "#Color printing\n",
    "from termcolor import colored\n",
    "\n",
    "#General data operations library\n",
    "import math\n",
    "import numpy as np\n",
    "\n",
    "#HEP specific tools\n",
    "import scipy.constants as scipy_constants\n",
    "\n",
    "#Plotting libraries\n",
    "import matplotlib.pyplot as plt\n",
    "\n",
    "#Increase plots font size\n",
    "params = {'legend.fontsize': 'xx-large',\n",
    "          'figure.figsize': (10, 7),\n",
    "         'axes.labelsize': 'xx-large',\n",
    "         'axes.titlesize':'xx-large',\n",
    "         'xtick.labelsize':'xx-large',\n",
    "         'ytick.labelsize':'xx-large'}\n",
    "plt.rcParams.update(params)"
   ]
  },
  {
   "cell_type": "markdown",
   "metadata": {},
   "source": [
    "### Probability distribution (PDF) and cumulative distribution (CDF) functions\n",
    "\n",
    "Consider random numbers from range [0,1] distributed according to the triangle distribution:\n",
    "\n",
    "\\begin{equation}\n",
    " p(x) = 2x\n",
    "\\end{equation}\n",
    "\n",
    "* plot the probability density function (PDF)\n",
    "* plot the cumulative probability function (CDF)\n",
    "* plot inverse of the CDF: $F^{-1}(p)$"
   ]
  },
  {
   "cell_type": "code",
   "execution_count": null,
   "metadata": {
    "tags": [
     "hide-input"
    ]
   },
   "outputs": [],
   "source": [
    "def pdf(x):\n",
    "    p = np.where(np.logical_and(x>0, x<1), 2*x, 0)\n",
    "    return p\n",
    "\n",
    "def cdf(x):\n",
    "    cdf = np.where(np.logical_and(x>0, x<1), x**2,0)\n",
    "    return cdf\n",
    "\n",
    "def invCDF(x):\n",
    "    value = np.where(np.logical_and(x>0, x<1),np.sqrt(x),0)\n",
    "    return value\n",
    "    \n",
    "fig, ax = plt.subplots(figsize=(6, 6))\n",
    "\n",
    "x = np.arange(0, 1.0, 0.01)\n",
    "ax.plot(x,pdf(x), label=\"p(x)\");\n",
    "ax.plot(x,cdf(x), label=r\"$F(x) = \\int_{0}^{x}p(x)dx$\");\n",
    "ax.plot(x,invCDF(x), label=r\"$F^{-1}(p)$\");\n",
    "ax.set_xlabel(\"x\")\n",
    "ax.set_ylabel(\"\")\n",
    "ax.legend();"
   ]
  },
  {
   "cell_type": "markdown",
   "metadata": {
    "tags": [
     "hide-input"
    ]
   },
   "source": [
    "### Random number generation using inverse of CDF\n",
    "\n",
    "* generate 100k numbers from triangle distribution using the inverse of the CDF\n",
    "* plot a histogram of numbers with PDF overaild "
   ]
  },
  {
   "cell_type": "code",
   "execution_count": null,
   "metadata": {
    "tags": [
     "hide-input"
    ]
   },
   "outputs": [],
   "source": [
    "def drawNumbers(nPoints, invCDF):\n",
    "    x = np.random.random(nPoints)\n",
    "    x = invCDF(x)\n",
    "    return x\n",
    "\n",
    "fig, ax = plt.subplots(figsize=(6, 6))\n",
    "\n",
    "x = np.arange(0,1,0.01)\n",
    "nPoints = 100000\n",
    "sample = drawNumbers(nPoints, invCDF)\n",
    "\n",
    "ax.plot(x,pdf(x), label=\"p(x)\");\n",
    "ax.hist(sample, bins=20, density=True, label=\"random data\");\n",
    "ax.set_xlabel(\"x\")\n",
    "ax.set_ylabel(\"\")\n",
    "ax.legend();"
   ]
  },
  {
   "cell_type": "markdown",
   "metadata": {},
   "source": [
    "### Please:\n",
    "\n",
    "* generate 100k numbers from $p(x) = 3x^{2}$ distribution using the inverse of the CDF\n",
    "* plot a histogram of numbers with PDF overaild "
   ]
  },
  {
   "cell_type": "code",
   "execution_count": null,
   "metadata": {},
   "outputs": [],
   "source": [
    "def pdf(x):\n",
    "    p = ...\n",
    "    return p\n",
    "\n",
    "def cdf(x):\n",
    "    cdf = ...\n",
    "    return cdf\n",
    "\n",
    "def invCDF(x):\n",
    "    value = ...\n",
    "    return value\n",
    "\n",
    "fig, ax = plt.subplots(figsize=(6, 6))\n",
    "\n",
    "x = np.arange(0,1,0.01)\n",
    "nPoints = 100000\n",
    "sample = drawNumbers(nPoints, invCDF)\n",
    "\n",
    "ax.plot(x,pdf(x), label=\"p(x)\");\n",
    "ax.hist(sample, bins=20, density=True, label=\"random data\");\n",
    "ax.set_xlabel(\"x\")\n",
    "ax.set_ylabel(\"\")\n",
    "ax.legend();"
   ]
  },
  {
   "cell_type": "markdown",
   "metadata": {},
   "source": [
    "### Python modules with physical constants\n",
    "\n",
    "Print out the values and uncerainties of:\n",
    "\n",
    "* the Fermi constant\n",
    "* muon mass\n",
    "* electron mass\n",
    "* define variables ```G_F```, ```m_e``` and ```m_mu``` containg only the values of relevant contants"
   ]
  },
  {
   "cell_type": "code",
   "execution_count": null,
   "metadata": {},
   "outputs": [],
   "source": [
    "G_F = scipy_constants.physical_constants[\"Fermi coupling constant\"]\n",
    "m_e = scipy_constants.physical_constants[\"electron mass energy equivalent in MeV\"]\n",
    "m_mu = scipy_constants.physical_constants[\"muon mass energy equivalent in MeV\"]\n",
    "\n",
    "print(\"Fermi constant: {} +- {} {}\".format(G_F[0], G_F[2], G_F[1]))\n",
    "print(\"muon mass: \\t{} +- {} {}\".format(m_mu[0], m_mu[2], m_mu[1]))\n",
    "print(\"electron mass: \\t{} +- {} {}\".format(m_e[0], m_e[2], m_e[1]))\n",
    "\n",
    "G_F = G_F[0]\n",
    "m_e = m_e[0]\n",
    "m_mu = m_mu[0]"
   ]
  },
  {
   "cell_type": "markdown",
   "metadata": {},
   "source": [
    "* write a function coding the differential decay width: ```dGamma_dE(E)```\n",
    "* calculate the value of the total decay width: ```Gamma_tot```\n",
    "* calculate and print out the muon life time in seconds: ```tau_mu```"
   ]
  },
  {
   "cell_type": "code",
   "execution_count": null,
   "metadata": {},
   "outputs": [],
   "source": [
    "def dGamma_dE(e):\n",
    "    value = G_F**2/(4.0*math.pi**3)\n",
    "    value *= m_mu**2*e**2*(1 - 4.0/3.0*e/m_mu)\n",
    "    return value\n",
    "\n",
    "Gamma_tot = ...\n",
    "\n",
    "hbar = scipy_constants.physical_constants[\"Planck constant in eV/Hz\"][0]/(2*math.pi)\n",
    "tau_mu = ...\n",
    "\n",
    "print(\"Muon life time is {:3.3e} seconds\".format(tau_mu))"
   ]
  },
  {
   "cell_type": "markdown",
   "metadata": {},
   "source": [
    "\n",
    "* calculate (on piece of paper) the maximum electron energy in muon decay (neglecting the neutrinos mass) and assing in to variable ```e_max```\n",
    "* print out the ```e_max```"
   ]
  },
  {
   "cell_type": "code",
   "execution_count": null,
   "metadata": {},
   "outputs": [],
   "source": [
    "e_max = (m_mu**2 - m_e**2)/(2.0*m_mu)\n",
    "print(\"Maximum electron energy in muon decay (neglecting neutrino mass): {:2.3} MeV\".format(e_max))"
   ]
  },
  {
   "cell_type": "markdown",
   "metadata": {},
   "source": [
    "### Plot the probability for the electron energy\n",
    "\n",
    "* check that the normalisation is correct - calculate numerically the integral:\n",
    "\\begin{equation}\n",
    "\\int p(E) dE\n",
    "\\end{equation}\n"
   ]
  },
  {
   "cell_type": "code",
   "execution_count": null,
   "metadata": {},
   "outputs": [],
   "source": [
    "nPoints = 100\n",
    "e = np.linspace(0.0, e_max, nPoints)\n",
    "p = dGamma_dE(e)/Gamma_tot\n",
    "\n",
    "print(\"Integral of p(E) is: {:1.5f}\".format(np.sum(p)*e_max/nPoints))\n",
    "\n",
    "fig, ax = plt.subplots(figsize=(6, 6))\n",
    "\n",
    "ax.plot(e,p, label=\"p(E)\");\n",
    "ax.set_xlabel(\"E [MeV]\")\n",
    "ax.set_ylabel(r\"$\\frac{1}{\\Gamma} \\frac{d\\Gamma}{dE}$\")\n",
    "ax.legend();"
   ]
  },
  {
   "cell_type": "markdown",
   "metadata": {},
   "source": [
    "### Event generation\n",
    "\n",
    "Generate \"events\" with energy distribution according to $\\mu \\rightarrow e \\nu$ decay\n",
    "\n",
    "* use \"hit-or-miss method\":\n",
    "    1) generate energy ```e``` from flat spectrum [0, $E_{max}$]\n",
    "    2) generate random number ```x``` from flat spectrum [0,1]\n",
    "    3) accept event if ```x<p(e)```\n",
    "    4) what is efficiency (=what fraction of events is kept) of this method?\n",
    "    5) How long it takes to generate 100k usefull events?\n",
    " \n",
    "--- \n",
    "**Hint:**  try to use numpy array operations instead of loops. This will be much faster.  "
   ]
  },
  {
   "cell_type": "code",
   "execution_count": null,
   "metadata": {},
   "outputs": [],
   "source": [
    "%%time\n",
    "\n",
    "nEvents = int(2E6)\n",
    "events = e_max*np.random.random_sample(nEvents)\n",
    "x = np.random.random_sample(nEvents)\n",
    "p = dGamma_dE(events)\n",
    "p = p/np.max(p)\n",
    "accept = x<p\n",
    "\n",
    "events = events[accept]\n",
    "print(\"Number of accepted events:\\t\",events.shape[0])\n",
    "print(\"Accepted events fraction:\\t\",events.shape[0]/nEvents)"
   ]
  },
  {
   "cell_type": "markdown",
   "metadata": {},
   "source": [
    "* draw a histogram of the energy with p(E) overlaid"
   ]
  },
  {
   "cell_type": "code",
   "execution_count": null,
   "metadata": {},
   "outputs": [],
   "source": [
    "nPoints = 10000\n",
    "e = np.linspace(0.0, e_max, nPoints)\n",
    "p = dGamma_dE(e)/Gamma_tot\n",
    "\n",
    "print(\"Integral of p(E) is:\",np.sum(p)*e_max/nPoints)\n",
    "\n",
    "fig, ax = plt.subplots(figsize=(6, 6))\n",
    "\n",
    "ax.plot(e,p, label=\"p(E)\");\n",
    "ax.hist(events,bins=20, density=True, label = \"MC events\")\n",
    "ax.set_xlabel(\"E [MeV]\")\n",
    "ax.set_ylabel(r\"$\\frac{1}{\\Gamma} \\frac{d\\Gamma}{dE}$\")\n",
    "ax.legend();"
   ]
  },
  {
   "cell_type": "markdown",
   "metadata": {},
   "source": [
    "### PASS/FAIL values generation\n",
    "\n",
    "Define a function ```efficiency(pt, eta)``` representing some detector efficiency. \n",
    "The efficiency plateau $\\epsilon_0$, and turn on $p_{T0}$ point should depend on $\\eta$:\n",
    "\n",
    "\\begin{equation}\n",
    "\\epsilon_{0} = 0.95 - |\\eta| \\cdot 0.1 \\\\\n",
    " p_{T0} = 30 + 20 \\cdot cos(\\eta)\n",
    "\\end{equation}\n",
    "\n",
    "Use the sigmoid function for the efficiency shape. The $p_{T}$ should be in range [0,100], and $\\eta$ in [-2.5, 2.5]."
   ]
  },
  {
   "cell_type": "code",
   "execution_count": null,
   "metadata": {},
   "outputs": [],
   "source": [
    "def efficiency(pt, eta):\n",
    "    pt0 = 30+20*np.cos(eta)\n",
    "    x = pt-pt0\n",
    "    epsilon0 = 0.95 - np.abs(eta)*0.1\n",
    "    return epsilon0/(1 + np.exp(-x))"
   ]
  },
  {
   "cell_type": "markdown",
   "metadata": {},
   "source": [
    "* make a 1D plot for $\\epsilon(p_{T}, \\eta={-2, 0, 1})$\n",
    "* make a 2D plot for the full map $\\epsilon(p_{T}, \\eta)$"
   ]
  },
  {
   "cell_type": "code",
   "execution_count": null,
   "metadata": {},
   "outputs": [],
   "source": [
    "pt = np.arange(0,100,2.0)\n",
    "eta = np.arange(-2.5, 2.5, 0.1)\n",
    "pt_grid, eta_grid = np.meshgrid(pt, eta)\n",
    "\n",
    "fig, axes = plt.subplots(1, 2, figsize = (10, 6))  \n",
    "axes[0].plot(pt, efficiency(pt, -2.0), \"r\", label = r'$\\eta = -2.0$')\n",
    "axes[0].plot(pt, ...)\n",
    "axes[0].plot(pt, ...)\n",
    "\n",
    "maxY = 1.1\n",
    "maxX = 100\n",
    "axes[0].set_ylabel(r'$\\epsilon$');\n",
    "axes[0].set_xlabel(r'$p_{T}$');\n",
    "axes[0].grid()\n",
    "axes[0].set_ylim([0,maxY])\n",
    "axes[0].set_xlim([0,maxX])\n",
    "axes[0].set_title(\"efficiency vs pT\")\n",
    "axes[0].legend(loc='upper left')\n",
    "\n",
    "axes[1].contourf(pt_grid, eta_grid, efficiency(pt_grid, eta_grid))\n",
    "axes[1].set_ylabel(r'$\\eta$');\n",
    "axes[1].set_xlabel(r'$p_{T}$');\n",
    "\n",
    "plt.subplots_adjust(bottom=0.15, left=0.05, right=0.95, wspace=0.25, hspace=0.35)"
   ]
  },
  {
   "cell_type": "markdown",
   "metadata": {},
   "source": [
    "Write a function ```generateData(nPoints, efficiency)``` that generates a sample of ```nPoints``` events, with information wheter an event was accepted, according to function ```effciency(pT, eta)``` that parametrises $\\epsilon$ \n",
    "\n",
    "* assume flat $p_{T}$ and $\\eta$ spectrum. The $p_{T}$ should be in range [0,100], an $\\eta$ in [-2.5, 2.5].\n",
    "* to each $(p_{T}, \\eta)$ pair assing a third variable: ```label``` randomly set to 0 or 1 according to the  ```efficiency(pt, eta)```"
   ]
  },
  {
   "cell_type": "code",
   "execution_count": null,
   "metadata": {},
   "outputs": [],
   "source": [
    "def generateData(nPoints, efficiency):\n",
    "    scale = [100, 2*2.1]\n",
    "    offset = [0, -2.1]\n",
    "\n",
    "    features = np.random.random_sample(size=(nPoints,2))\n",
    "    features = features*scale + offset\n",
    "        \n",
    "    flatRndm = np.random.random_sample(size=(nPoints,))\n",
    "    labels = flatRndm<efficiency(features[:,0], features[:,1])\n",
    "    labels = np.reshape(labels, (-1,1))\n",
    "    return np.concatenate((features,labels), axis=1)"
   ]
  },
  {
   "cell_type": "markdown",
   "metadata": {},
   "source": [
    "* generate 100k events\n",
    "* select data rows with $|\\eta|<0.1$\n",
    "* further select accepted events with ```pass>0```\n",
    "* calculate efficiency as a ratio of accepted to total events in bins of $p_{T}$. Use 10 bins. \n",
    "\n",
    "**Hints:** \n",
    "* for counting number of events in bins use ```np.hist```\n",
    "* for getting the bin centers use ```np.diff```"
   ]
  },
  {
   "cell_type": "code",
   "execution_count": null,
   "metadata": {},
   "outputs": [],
   "source": [
    "%%time\n",
    "nPoints = 1000000\n",
    "binWidth = 1.0\n",
    "data = generateData(nPoints, efficiency)\n",
    "\n",
    "data_eta01 = data[np.abs(data[:,1])<0.1]\n",
    "data_pass = data_eta01[data_eta01[:,2]>0]\n",
    "\n",
    "pass_histo, bins = np.histogram(data_pass[:,0], bins=np.arange(0,100,binWidth))\n",
    "all_histo, bins =  np.histogram(data_eta01[:,0], bins=np.arange(0,100,binWidth))\n",
    "ratio = np.divide(pass_histo, all_histo.astype(float))\n",
    "binCenters = bins[:-1] + np.diff(bins)/2.0"
   ]
  },
  {
   "cell_type": "markdown",
   "metadata": {},
   "source": [
    "* plot efficiency from function for $\\eta=0$\n",
    "* overlay efficiency from event counting from data\n",
    "* do the two agree? If not exactly, then why?"
   ]
  },
  {
   "cell_type": "code",
   "execution_count": null,
   "metadata": {},
   "outputs": [],
   "source": [
    "pt = np.arange(0,100,2.0)\n",
    "eta = np.arange(-2.5, 2.5, 0.1)\n",
    "\n",
    "fig, ax = plt.subplots(figsize = (6, 6))  \n",
    "ax.plot(pt, efficiency(pt, 0.0), color=\"black\",label = r\"$\\epsilon(p_{T})$\")\n",
    "ax.bar(binCenters, ratio, width=binWidth, color=\"#ff7f0e\", label = 'MC data')\n",
    "\n",
    "maxY = 1.1\n",
    "maxX = 100\n",
    "ax.set_ylabel(r'$\\epsilon$');\n",
    "ax.set_xlabel(r'$p_{T}$');\n",
    "ax.grid()\n",
    "ax.set_ylim([0,maxY])\n",
    "ax.set_xlim([0,maxX])\n",
    "ax.set_title(r\"efficiency vs pT for |$\\eta|<0.0$\")\n",
    "ax.legend(loc='upper left');"
   ]
  },
  {
   "cell_type": "markdown",
   "metadata": {},
   "source": [
    "## Energy smearing.\n",
    "\n",
    "Write a function ```smearEnergy(e, sigma)``` that smears a \"true\" energy according to desired relative resolution $\\sigma$:\n",
    "\n",
    "\\begin{equation}\n",
    "   x = \\frac{\\Delta{E}}{E_{true}} + 1 = \\frac{E_{reco}}{E_{true}}\\\\\n",
    "   p(x) = \\frac{1}{\\sigma \\sqrt{2\\pi}}e^{-\\frac{(x-1)^{2}}{2\\sigma^{2}}}\n",
    "\\end{equation}\n",
    "\n",
    "\n",
    "* create a sample of 10k \"events\" with energy equal to ```e=10```\n",
    "* create a sample with energy smeared according to ```smearEnergy(e, sigma)``` with relative resolution of 20%\n",
    "* plot histograms of both datasets\n",
    "* calculate the standard deviation of the relative energy difference"
   ]
  },
  {
   "cell_type": "code",
   "execution_count": null,
   "metadata": {},
   "outputs": [],
   "source": [
    "def smearEnergy(data, sigma):\n",
    "    smearFactor = 1 + sigma*np.random.randn(data.shape[0])\n",
    "    return data*smearFactor\n",
    "\n",
    "\n",
    "data = np.array([1,1,1])\n",
    "smeared_data = smearEnergy(data=data, sigma = 0.1)\n",
    "print(\"Original data:\\t\",data)\n",
    "print(\"Smeared data:\\t\",smeared_data)"
   ]
  },
  {
   "cell_type": "code",
   "execution_count": null,
   "metadata": {},
   "outputs": [],
   "source": [
    "data = np.full(shape=10000, fill_value=10)\n",
    "\n",
    "sigma = 0.2\n",
    "smeared_data = smearEnergy(data, sigma)\n",
    "\n",
    "fig, ax = plt.subplots(figsize = (6, 6))  \n",
    "ax.hist(data, bins=5, color=\"black\",label = 'original\\ndata')\n",
    "ax.hist(smeared_data, bins=20, color=\"#ff7f0e\", label = 'smeared\\ndata');\n",
    "ax.legend(loc=\"upper left\")\n",
    "ax.set_ylabel(\"Number of events\");\n",
    "ax.set_xlabel(\"Energy [GeV]\");\n",
    "\n",
    "delta = smeared_data/data + 1\n",
    "print(\"Relative standard deviation for the smeared data: {:3.2f}\".format(np.std(delta)))"
   ]
  },
  {
   "cell_type": "markdown",
   "metadata": {},
   "source": [
    "## Homework\n",
    "\n",
    "Write a generator for electron - positron pairs from the Z boson decay. Assume the Z boson is at rest, and its mass is ditributed according to the \n",
    "Breit-Wigner (BW) distribution with $m_{Z} = 92.1876$, $\\Gamma = 2.4952$.\n",
    "\n",
    "* generate events with the pair energy in range [50,200]\n",
    "* assume the decay is isotropic (is this fully correct?)\n",
    "* generate at least 500k events. How long it takes? What is the generation effciency?\n",
    "* plot histogram of the pair invariant mass with linear and log Y scales. Overlay with probability distribution for invariant mass\n",
    "* plot histogram of  $cos(\\theta)$ of electrons moementum\n",
    "* plot histogram of transverse electron momentum $p_{T}$. Overlay with probability distribution for transverse momentum.\n",
    "\n",
    "**Hints:** \n",
    "* the probability distibution for the $p_{T}$ can be obtained from the chain rule:\n",
    "\n",
    "\\begin{equation}\n",
    "\\frac{d\\sigma}{dp_{T}} =  \\frac{d\\sigma}{d\\cos(\\theta)} \\frac{d\\cos(\\theta)}{dp_{T}}\n",
    "\\end{equation}\n",
    "\n",
    "* use the nominal Z boson mass while calculating the $\\frac{d\\sigma}{dp_{T}}$."
   ]
  },
  {
   "cell_type": "code",
   "execution_count": null,
   "metadata": {},
   "outputs": [],
   "source": [
    "minS = 50\n",
    "maxS = 200\n",
    "\n",
    "m_Z = 92.1876\n",
    "gamma_Z = 2.4952\n",
    "\n",
    "def BreitWigner(s, m, gamma):\n",
    "    ...\n",
    "\n",
    "def generateCandidateEnergy(nPoints):\n",
    "    s = (maxS-minS)*np.random.random(nPoints) + minS\n",
    "    bw_values = ...\n",
    "    accepted = ...\n",
    "    return s[accepted]/2.0\n",
    "\n",
    "def generateCandidateMomenta(energy):\n",
    "    ...\n",
    "    ...\n",
    "    p4_electron = np.column_stack([energy, px,py,pz])\n",
    "    p4_positron = np.column_stack([energy, -px,-py,-pz])\n",
    "    return  p4_electron, p4_positron\n",
    "\n",
    "def generateEvents(nPoints):\n",
    "    energy = generateCandidateEnergy(nPoints)\n",
    "    data = generateCandidateMomenta(energy)\n",
    "    return data\n",
    "\n",
    "def invMass(p4):\n",
    "    metric = np.array([1,-1,-1,-1])\n",
    "    p4_square = p4*(metric*p4)\n",
    "    m = np.sqrt(np.sum(p4_square, axis=1))\n",
    "    return m"
   ]
  },
  {
   "cell_type": "code",
   "execution_count": null,
   "metadata": {},
   "outputs": [],
   "source": [
    "%%time\n",
    "\n",
    "nPoints = 1000000\n",
    "p4_electron, p4_positron = generateEvents(nPoints)\n",
    "m = invMass(p4_electron + p4_positron)\n",
    "print(\"Generated {} events for {} tries. \\nEfficiency: {:3.2f}\".format(m.shape[0], nPoints, float(m.shape[0])/nPoints))\n",
    "\n",
    "fig, axes = plt.subplots(2,2, figsize=(12, 12))\n",
    "axes[0,0].plot(m, BreitWigner(m, m_Z, gamma_Z), \"o\",label=\"Breit-wigner\");\n",
    "axes[0,0].hist(..., label=r\"$e^{+}e^{-}$ MC data\");\n",
    "axes[0,0].set_xlabel(r\"invariant mass [GeV/$c^{2}$]\")\n",
    "axes[0,0].set_ylabel(\"probability density\")\n",
    "axes[0,0].legend(loc=\"upper right\");\n",
    "\n",
    "axes[0,1].plot(m, BreitWigner(m, m_Z, gamma_Z), \"o\",label=\"Breit-wigner\");\n",
    "axes[0,1].hist(..., label=r\"$e^{+}e^{-}$ MC data\");\n",
    "axes[0,1].set_xlabel(r\"invariant mass [GeV/$c^{2}$]\")\n",
    "axes[0,1].set_ylabel(\"probability density\")\n",
    "axes[0,1].set_yscale(\"log\")\n",
    "axes[0,1].legend(loc=\"upper right\");\n",
    "\n",
    "pT = np.sqrt(np.sum(p4_electron[:,1:3]*p4_electron[:,1:3], axis=1))\n",
    "pL = p4_electron[:,3]\n",
    "p = np.sqrt(...)\n",
    "\n",
    "cosTheta = pL/p\n",
    "axes[1,0].hist(..., label=\"electrons\");\n",
    "axes[1,0].set_xlabel(r\"$\\cos(\\theta)$\")\n",
    "axes[1,0].set_ylabel(\"probability density\")\n",
    "\n",
    "pT_dist = ...\n",
    "pT_dist = np.where(pT_dist<0.08, pT_dist, 0)\n",
    "axes[1,1].plot(pT, pT_dist,\"o\" ,label=r\"$\\frac{1}{\\sigma_{0}}\\frac{d\\sigma}{dp_{T}}$\");\n",
    "axes[1,1].hist(..., label=\"electron\\nMC data\");\n",
    "axes[1,1].set_xlabel(r\"$p_{T}$[GeV/c]\")\n",
    "axes[1,1].set_ylabel(\"probability density\")\n",
    "axes[1,1].legend(loc=\"upper right\");\n",
    "\n",
    "plt.subplots_adjust(bottom=0.15, left=0.05, right=0.95, wspace=0.3, hspace=0.3)"
   ]
  }
 ],
 "metadata": {
  "colab": {
   "collapsed_sections": [],
   "name": "01a_Powtórka_numpy.ipynb",
   "provenance": [
    {
     "file_id": "0BzwQ_Lscn8yDWnZVeHU1MjluWFU",
     "timestamp": 1546856440599
    }
   ]
  },
  "kernelspec": {
   "display_name": "Python 3",
   "language": "python",
   "name": "python3"
  },
  "language_info": {
   "codemirror_mode": {
    "name": "ipython",
    "version": 3
   },
   "file_extension": ".py",
   "mimetype": "text/x-python",
   "name": "python",
   "nbconvert_exporter": "python",
   "pygments_lexer": "ipython3",
   "version": "3.9.7"
  },
  "toc-autonumbering": false,
  "toc-showcode": false,
  "toc-showmarkdowntxt": false,
  "toc-showtags": false
 },
 "nbformat": 4,
 "nbformat_minor": 4
}
