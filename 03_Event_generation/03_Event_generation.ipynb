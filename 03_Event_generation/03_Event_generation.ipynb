{
 "cells": [
  {
   "cell_type": "markdown",
   "metadata": {
    "tags": []
   },
   "source": [
    "# Event generation\n",
    "Auhtor: Piotr Podlaski"
   ]
  },
  {
   "cell_type": "markdown",
   "metadata": {
    "tags": []
   },
   "source": [
    "## Load ROOT and necessary python packages"
   ]
  },
  {
   "cell_type": "code",
   "execution_count": null,
   "metadata": {},
   "outputs": [],
   "source": [
    "import ROOT\n",
    "import os, sys, subprocess, time\n",
    "import py8settings as py8s\n",
    "from py8settings import PDF\n",
    "import itertools as it\n",
    "import ctypes\n",
    "\n",
    "%jsroot on"
   ]
  },
  {
   "cell_type": "markdown",
   "metadata": {},
   "source": [
    "## Compile pythia example code necessary to display events in graphical form"
   ]
  },
  {
   "cell_type": "code",
   "execution_count": null,
   "metadata": {
    "tags": []
   },
   "outputs": [],
   "source": [
    "!cd pythia-examples; make main300; cd -"
   ]
  },
  {
   "cell_type": "markdown",
   "metadata": {},
   "source": [
    "## Play with Pythia8 settings and view events"
   ]
  },
  {
   "cell_type": "code",
   "execution_count": null,
   "metadata": {},
   "outputs": [],
   "source": [
    "cmnd_file = \"settings.cmnd\"\n",
    "\n",
    "#we start fresh\n",
    "if os.path.exists(cmnd_file):\n",
    "    os.remove(cmnd_file)\n",
    "os.system(\"touch \"+cmnd_file)\n",
    "\n",
    "#beam settings:\n",
    "py8s.beam_settings(cmnd_file)"
   ]
  },
  {
   "cell_type": "code",
   "execution_count": null,
   "metadata": {},
   "outputs": [],
   "source": [
    "py8s.basic_settings(cmnd_file)"
   ]
  },
  {
   "cell_type": "code",
   "execution_count": null,
   "metadata": {},
   "outputs": [],
   "source": [
    "py8s.onoff_settings(cmnd_file)"
   ]
  },
  {
   "cell_type": "code",
   "execution_count": null,
   "metadata": {},
   "outputs": [],
   "source": [
    "# Write settings for phase-space cuts to file.\n",
    "py8s.pscuts_settings(cmnd_file, 2)"
   ]
  },
  {
   "cell_type": "code",
   "execution_count": null,
   "metadata": {},
   "outputs": [],
   "source": [
    "# Write settings for phase-space cuts to file.\n",
    "py8s.shower_settings(cmnd_file)"
   ]
  },
  {
   "cell_type": "code",
   "execution_count": null,
   "metadata": {},
   "outputs": [],
   "source": [
    "# Write additional settings if needed.\n",
    "#py8s.more_settings(cmnd_file, [\"23:onMode = off\", \"23:onIfAny = 13\"])"
   ]
  },
  {
   "cell_type": "code",
   "execution_count": null,
   "metadata": {
    "tags": []
   },
   "outputs": [],
   "source": [
    "# Start pythia+dire.\n",
    "command = \"./pythia-examples/main300 --visualize_event --input \"+cmnd_file  #+ \">> /dev/null\"\n",
    "subprocess.call([\"bash\",\"-c\",command]);"
   ]
  },
  {
   "cell_type": "code",
   "execution_count": null,
   "metadata": {},
   "outputs": [],
   "source": [
    "subprocess.call([\"bash\",\"-c\",\"dot -Tpdf event-\"+cmnd_file+\".dot -o event-\"+cmnd_file+\".pdf\"])\n",
    "PDF(\"event-\"+cmnd_file+\".pdf\",size=(1280,1024))"
   ]
  },
  {
   "cell_type": "markdown",
   "metadata": {},
   "source": [
    "# Run Pythia8 from ROOT interface"
   ]
  },
  {
   "cell_type": "markdown",
   "metadata": {},
   "source": [
    "First we prepare and initialize basic pythia configuration for generation of $p+p$ events at 14 TeV:\n",
    " * define helper function to suppress pythia messages\n",
    " * create `TPythia8` object\n",
    " * use `HardQCD:all` physics processes\n",
    " * set random seed to 42 (dummy number)\n",
    " * initialize pythia to simulate $p+p$ collisions at 14 TeV"
   ]
  },
  {
   "cell_type": "code",
   "execution_count": null,
   "metadata": {
    "tags": []
   },
   "outputs": [],
   "source": [
    "def makePythiaSilent(pythia):\n",
    "    pythia.ReadString(\"Init:showMultipartonInteractions = off\")\n",
    "    pythia.ReadString(\"Init:showChangedParticleData = off\")\n",
    "    pythia.ReadString(\"Init:showProcesses = off\")\n",
    "    pythia.ReadString(\"Init:showChangedSettings = off\")\n",
    "    pythia.ReadString(\"Next:numberShowInfo = 0\")\n",
    "    pythia.ReadString(\"Next:numberShowProcess = 0\")\n",
    "    pythia.ReadString(\"Next:numberShowEvent = 0\")\n",
    "    pythia.ReadString(\"Next:numberCount = 0\")\n",
    "\n",
    "pythia = ROOT.TPythia8(False)\n",
    "makePythiaSilent(pythia)\n",
    "pythia.ReadString(\"HardQCD:all = on\")\n",
    "pythia.ReadString(\"Random:setSeed = on\")\n",
    "pythia.ReadString(\"Random:seed = 42\") # to ro randomize seed\n",
    "pythia.Initialize(2212 , 2212 , 14000)\n",
    "particles = ROOT.TClonesArray(\"TParticle\", 1000) #prepare space for generated particles"
   ]
  },
  {
   "cell_type": "markdown",
   "metadata": {},
   "source": [
    "To see how does it work we generate a single event and take a look at particle listings:"
   ]
  },
  {
   "cell_type": "code",
   "execution_count": null,
   "metadata": {
    "tags": []
   },
   "outputs": [],
   "source": [
    "pythia.GenerateEvent()\n",
    "pythia.EventListing()"
   ]
  },
  {
   "cell_type": "markdown",
   "metadata": {},
   "source": [
    "### Prepare helper functions for particle identification"
   ]
  },
  {
   "cell_type": "markdown",
   "metadata": {},
   "source": [
    "* write function to tell if particle is *final* (i.e. simulation of its evolution by pythia is finished). Hint: *final* particles have positive status codes\n",
    "* add a second argument which will allow to filter by the particle type as well, keeping the function behaviour when only one argument is provided\n",
    "* write a function that computes ivariant mass of the pair of particles\n",
    "* the two defined functions assume that (a pair of) `TParticle` object(s) is passed to them"
   ]
  },
  {
   "cell_type": "code",
   "execution_count": null,
   "metadata": {},
   "outputs": [],
   "source": [
    "def isFinal(p,name=None):\n",
    "    if name==None:\n",
    "        return p.GetStatusCode()>0\n",
    "    else:\n",
    "        return p.GetStatusCode()>0 and p.GetName()==name\n",
    "\n",
    "\n",
    "def getMinv(pair):\n",
    "    p4_1=ROOT.TLorentzVector()\n",
    "    p4_2=ROOT.TLorentzVector()\n",
    "    pair[0].Momentum(p4_1)\n",
    "    pair[1].Momentum(p4_2)\n",
    "    p4=p4_1+p4_2\n",
    "    return p4.M()"
   ]
  },
  {
   "cell_type": "markdown",
   "metadata": {},
   "source": [
    "## Properties of hadron production in $p+p$ interactions"
   ]
  },
  {
   "cell_type": "markdown",
   "metadata": {},
   "source": [
    "### Generate 10000 $p+p$ events at 14 TeV and draw $\\frac{\\mathrm{d} N}{\\mathrm{d}\\eta}$ and  $\\frac{1}{p_T}\\frac{\\mathrm{d} N}{\\mathrm{d}p_T}$ distributions of $p$, $\\pi^+$ and $K^+$"
   ]
  },
  {
   "cell_type": "markdown",
   "metadata": {},
   "source": [
    "* create list of particles' names in consideration\n",
    "* use dictionaries to provide labels and colors for plotting, particle names should be used as keys\n",
    "* in similar fashion initialize dictionaries of histograms (`TH1D`)\n",
    "* invoke `TH1D::Sumw2()` method on each histogram to enable calculation of Poissonian errors\n",
    "* generate events and fill histograms\n",
    "* format histograms:\n",
    "  * set markers to `ROOT.kFullCircle` for all histograms\n",
    "  * set colors according to dictionaries defined at the begening\n",
    "  * find out what is the maximal value of $y$ axis on $\\eta$ and $p_T$ plots (among all particles)\n",
    "  * scale histograms by $\\frac{1}{\\Delta x \\cdot N}$, where $\\Delta x$ is the bin width and $N$ is the number of events"
   ]
  },
  {
   "cell_type": "code",
   "execution_count": null,
   "metadata": {
    "tags": []
   },
   "outputs": [],
   "source": [
    "nEvents=10000\n",
    "parts=[\"proton\", \"pi+\", \"K+\"]\n",
    "labels={\"proton\": \"p\", \"pi+\": \"#pi^{+}\", \"K+\": \"K^{+}\"}\n",
    "colors={\"proton\": ROOT.kBlack, \"pi+\": ROOT.kBlue, \"K+\": ROOT.kRed}\n",
    "heta={}\n",
    "hpt={}\n",
    "\n",
    "for p in parts:\n",
    "    heta[p]=ROOT.TH1D(\"eta\"+p,\"\",120,-12,12)\n",
    "    heta[p].Sumw2()\n",
    "    hpt[p]=ROOT.TH1D(\"pt\"+p,\"\",50,0,10)\n",
    "    hpt[p].Sumw2()\n",
    "\n",
    "def fillHistos(p):\n",
    "    name=p.GetName()\n",
    "    if name in parts:\n",
    "        heta[name].Fill(p.Eta())\n",
    "        hpt[name].Fill(p.Pt(),1/(p.Pt()))\n",
    "\n",
    "#generate events\n",
    "for i in range(nEvents):\n",
    "    pythia.GenerateEvent()\n",
    "    pythia.ImportParticles(particles,\"All\")\n",
    "    for p in particles:\n",
    "        if isFinal(p):\n",
    "            fillHistos(p)\n",
    "#format and normalize histograms, find ranges on y axes\n",
    "maxeta=0\n",
    "maxpt=0\n",
    "for p in parts:\n",
    "    heta[p].SetMarkerStyle(ROOT.kFullCircle)\n",
    "    heta[p].SetMarkerColor(colors[p])\n",
    "    bw=heta[p].GetBinWidth(1)\n",
    "    heta[p].Scale(1./(bw*nEvents))\n",
    "    maxeta=max(maxeta,heta[p].GetMaximum())\n",
    "    \n",
    "    hpt[p].SetMarkerStyle(ROOT.kFullCircle)\n",
    "    hpt[p].SetMarkerColor(colors[p])\n",
    "    bw=hpt[p].GetBinWidth(1)\n",
    "    hpt[p].Scale(1./(bw*nEvents))\n",
    "    maxpt=max(maxpt,hpt[p].GetMaximum())"
   ]
  },
  {
   "cell_type": "markdown",
   "metadata": {},
   "source": [
    "Now, once simuation is complete and histograms are filled we proceed to drawing them:\n",
    "* create `TCanvas` and divide it into two pads along $x$ axis\n",
    "* prepare `TLegend` (the same for both plots for simplicity, sybbols for differend kinds of particles are identical)\n",
    "* prepare *frames* for plotting (axes with correct labels and ranges)\n",
    "  * for $\\frac{1}{p_T}\\frac{\\mathrm{d} N}{\\mathrm{d}p_T}$ set logarithmic scale on $y$ axis\n",
    "* plot the histograms and and legends"
   ]
  },
  {
   "cell_type": "code",
   "execution_count": null,
   "metadata": {},
   "outputs": [],
   "source": [
    "c_etapt = ROOT.TCanvas(\"c_etapt\",\"\",1600,600)\n",
    "c_etapt.Divide(2,1)"
   ]
  },
  {
   "cell_type": "code",
   "execution_count": null,
   "metadata": {},
   "outputs": [],
   "source": [
    "leg=ROOT.TLegend(0.8,0.75,0.9,0.9)\n",
    "for p in parts:\n",
    "    leg.AddEntry(hpt[p], labels[p])\n",
    "\n",
    "c_etapt.cd(1).SetLogy()\n",
    "frame_pt=c_etapt.cd(1).DrawFrame(0,maxpt*1e-8,10,10*maxpt)\n",
    "frame_pt.GetXaxis().SetTitle(\"p_{T} [GeV/c]\")\n",
    "frame_pt.GetXaxis().SetTitleOffset(1.5)\n",
    "frame_pt.GetYaxis().SetTitleSize(15)\n",
    "frame_pt.GetYaxis().SetTitle(\"#frac{1}{p_{T}}#frac{dN}{dp_{T}} [GeV/c]^{-2}\")\n",
    "frame_pt.Draw()\n",
    "for p in parts:\n",
    "    hpt[p].Draw(\"p same\")\n",
    "leg.Draw()\n",
    "\n",
    "c_etapt.cd(2)\n",
    "frame_eta=c_etapt.cd(2).DrawFrame(-12,0,12,1.1*maxeta)\n",
    "frame_eta.GetXaxis().SetTitle(\"#eta\")\n",
    "frame_eta.GetYaxis().SetTitleSize(15)\n",
    "frame_eta.GetYaxis().SetTitle(\"#frac{dN}{d#eta} \")\n",
    "frame_eta.Draw()\n",
    "for p in parts:\n",
    "    heta[p].Draw(\"p same\")\n",
    "    \n",
    "leg.Draw()\n",
    "\n",
    "c_etapt.Draw()"
   ]
  },
  {
   "cell_type": "markdown",
   "metadata": {},
   "source": [
    "## $K^*$ meson production"
   ]
  },
  {
   "cell_type": "markdown",
   "metadata": {},
   "source": [
    "### Generate 10000 $p+p$ events at 14 TeV and look for $K^*$ meson by plotting invariant mass of $\\pi^-K^+$ pairs. Compare this spectrum with invariant mass spectrum of produced $K^*$'s decaying into kaon and pion."
   ]
  },
  {
   "cell_type": "markdown",
   "metadata": {},
   "source": [
    "* create two one dimensional histograms to hold invariant masses of  $\\pi^--K^+$ pairs and $K^*$ mesons (300 bins each, range (0.5,2) GeV/$c^2$)\n",
    "* during event generation in each event separately create lists of $\\pi^-$'s and $K^+$'s and fill invariant mass histogram with invariant masses of all possible $\\pi^--K^+$ pairs, use `getMinv` function defined above\n",
    "  * HINT: use `itertools.product` (`it.product`), if `A` and `B` are lists, then `list(it.product(A,B))` is the list of all possible pairs where one element is from `A` and the other is from `B`\n",
    "* second histogram should be filled with invariant masses of $K^*$'s decaying to pion and kaon, use `TParticle::GetDaughter(int n)` method (`n=0,1`, e.g. `p.GetDaugther(0), p.GetDaugther(1)`) to select the desired decay channel, this method returns *index* of the daughter particle - in order to access corresponding `TParticle` opject we have to directly access `particles[p.GetDaughter(0)]`\n",
    "* create new `TCanvas`, present the two distributions on one plot with apropriate axes labels, different colors and legend"
   ]
  },
  {
   "cell_type": "code",
   "execution_count": null,
   "metadata": {
    "tags": []
   },
   "outputs": [],
   "source": [
    "nEvents=10000\n",
    "h=ROOT.TH1D(\"h_all\",\"\",300,0.5,2)\n",
    "hpure=ROOT.TH1D(\"h_pure\",\"\",300,0.5,2)\n",
    "\n",
    "def getKstarCandidates(parts):\n",
    "    pim = [p for p in parts if isFinal(p,\"pi-\")]\n",
    "    kp = [p for p in parts if isFinal(p,\"K+\")]\n",
    "    return list(it.product(pim,kp))\n",
    "\n",
    "\n",
    "for i in range(nEvents):\n",
    "    pythia.GenerateEvent()\n",
    "    pythia.ImportParticles(particles,\"All\")\n",
    "    #for all possible pi- K+ pairs we fill invariant mass histogram\n",
    "    for pair in getKstarCandidates(particles):\n",
    "        h.Fill(getMinv(pair))\n",
    "    #now we look for actual K*'s that decayed:\n",
    "    for p in particles:\n",
    "        if p.GetName()==\"K*0\":\n",
    "            #we accept K* only if it decayed to pion and kaon\n",
    "            d0=particles[p.GetDaughter(0)].GetName()\n",
    "            d1=particles[p.GetDaughter(1)].GetName()\n",
    "            if {d0,d1} != {\"pi-\",\"K+\"}:\n",
    "                continue\n",
    "            p4=ROOT.TLorentzVector()\n",
    "            p.Momentum(p4)\n",
    "            hpure.Fill(p4.M())\n",
    "\n",
    "\n",
    "c_kstar = ROOT.TCanvas(\"c\",\"\",800,600)\n",
    "ROOT.gStyle.SetOptStat(0)\n",
    "h.GetXaxis().SetTitle(\"M_{#pi^{-}K^{+}} [GeV/#it{c}^{2}]\")\n",
    "h.GetXaxis().SetTitleOffset(1.1)\n",
    "h.GetYaxis().SetTitle(\"Entries\")\n",
    "h.SetLineWidth(2)\n",
    "h.Draw()\n",
    "hpure.SetLineWidth(2)\n",
    "hpure.SetLineColor(ROOT.kRed)\n",
    "hpure.Draw(\"same\")\n",
    "leg=ROOT.TLegend(0.5,0.7,0.9,0.9)\n",
    "leg.AddEntry(h,\"all #pi^{-}K^{+} pairs\")\n",
    "leg.AddEntry(hpure,\"#pi^{-}K^{+} pairs from K^{*} decay\")\n",
    "leg.Draw()\n",
    "c_kstar.Draw()"
   ]
  },
  {
   "cell_type": "markdown",
   "metadata": {
    "tags": []
   },
   "source": [
    "## HOMEWORK: $Z$ boson production in $p+\\bar{p}$ collisions"
   ]
  },
  {
   "cell_type": "markdown",
   "metadata": {},
   "source": [
    "### Generate 10000 $p+\\bar{p}$ events at 630 GeV of $Z$ boson production ($Z$ discovery at CERN SPS)."
   ]
  },
  {
   "cell_type": "markdown",
   "metadata": {},
   "source": [
    "Setup:\n",
    "* in order to look at $Z$ boson production we limit physics list of Pythia8 to include only hard $f\\bar{f}\\to Z \\to f\\bar{f}$ processes\n",
    "  * `WeakSingleBoson:ffbar2gmZ`\n",
    "* moreover, we will disable all $Z$ decay modes other than $Z\\to e^+e^-$, in which the particle was discovered\n",
    "  * `id:onMode = off` disables all decay channels of particle with given id (`id` should be an integer equal to PDG code of the particle)\n",
    "  * `id:onIfAny = prod` enables decay of particle `id` in channels containing `prod` - see pythia documentation if more info is necessary\n",
    "* to speed up the simulation we disable hadronisation (we are interested only in leptonic final states)\n",
    "* we also limit phase space to $\\pm 20$ GeV around the $Z$ rest mass\n",
    "  * use `PhaseSpace:mHatMin = XX` and `PhaseSpace:mHatMax = XX` options, values are in GeV\n",
    "\n",
    "To do:\n",
    "* select candidates for products of $Z$ decay in each event and plot their invariant mass distribution in range 70-110 GeV\n",
    "* check influence of final state radiation on the spectrum - generate additional 10000 events with FSR turned off\n",
    "* normalize histograms so that their maxima are at $1$\n",
    "* draw both distributions (as a histograms, option `\"hist\"`) on the same plot with axis labels and a legend, how does FSR influence invariant mass spectrum?\n",
    "* draw $\\frac{1}{p_T}\\frac{\\mathrm{d}N}{\\mathrm{d}p_T}$ and $\\frac{\\mathrm{d}N}{\\mathrm{d}\\eta}$ spectra of produced $Z$ bosons (only for one dataset, with FSR on), with axis labels and proper normalisation, pick the $x$ axis ranges so that the whole distribution fits inside the plot\n",
    "  * **hint:** $Z$ boson will occur multiple times in the event listing (why?), it will never be a final particle, pick only $Z$'s that appear *last* in each event\n",
    "* what is the *mean* number $\\langle N_Z\\rangle$ of $Z$ bosons produced in an event, with what error? is this result surprising?\n",
    "  * **hint:** $\\langle N \\rangle = \\int\\limits_0^\\infty \\frac{\\mathrm{d}N}{\\mathrm{d}p_T}\\cdot \\mathrm{d}p_T = \\int\\limits_{-\\infty}^\\infty \\frac{\\mathrm{d}N}{\\mathrm{d}\\eta}\\cdot \\mathrm{d}\\eta$, see `TH1::Integral`, and `TH1::IntegralAndError` methods and make sure, that *\"width\"* option is used so that bin contents are multiplied by bin widths during computation of the integral"
   ]
  },
  {
   "cell_type": "code",
   "execution_count": null,
   "metadata": {},
   "outputs": [],
   "source": [
    "nEvents=10000\n",
    "pythia = ROOT.TPythia8(False)                       # false to suppress banner\n",
    "makePythiaSilent(pythia)                            # suppress most of pythia console output\n",
    "#pythia setup and initialization goes here\n",
    "particles = ROOT.TClonesArray(\"TParticle\", 1000)    # prepare space for generated particles\n",
    "\n",
    "#your solution goes here"
   ]
  }
 ],
 "metadata": {
  "kernelspec": {
   "display_name": "Python 3",
   "language": "python",
   "name": "python3"
  },
  "language_info": {
   "codemirror_mode": {
    "name": "ipython",
    "version": 3
   },
   "file_extension": ".py",
   "mimetype": "text/x-python",
   "name": "python",
   "nbconvert_exporter": "python",
   "pygments_lexer": "ipython3",
   "version": "3.9.7"
  }
 },
 "nbformat": 4,
 "nbformat_minor": 4
}
