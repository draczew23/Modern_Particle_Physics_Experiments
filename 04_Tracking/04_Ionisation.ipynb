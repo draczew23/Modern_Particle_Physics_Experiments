{
 "cells": [
  {
   "cell_type": "markdown",
   "metadata": {
    "tags": []
   },
   "source": [
    "# Ionisation energy losses\n",
    "Author: Aleksander Filip Żarnecki (University of Warsaw)\n"
   ]
  },
  {
   "cell_type": "code",
   "execution_count": 1,
   "metadata": {},
   "outputs": [
    {
     "name": "stdout",
     "output_type": "stream",
     "text": [
      "Welcome to JupyROOT 6.24/04\n"
     ]
    }
   ],
   "source": [
    "import math\n",
    "from ROOT import *\n",
    "import numpy as np\n",
    "\n",
    "# For inline image display\n",
    "from IPython.display import Image"
   ]
  },
  {
   "cell_type": "markdown",
   "metadata": {
    "jp-MarkdownHeadingCollapsed": true,
    "tags": []
   },
   "source": [
    "### ROOT style configuration"
   ]
  },
  {
   "cell_type": "code",
   "execution_count": 2,
   "metadata": {},
   "outputs": [],
   "source": [
    "# Set ROOT graphics options\n",
    "\n",
    "gROOT.SetStyle(\"Plain\")\n",
    "\n",
    "# Default canvas  size\n",
    "\n",
    "gStyle.SetCanvasDefW(800)\n",
    "gStyle.SetCanvasDefH(700)\n",
    " \n",
    "# set the margins\n",
    "  \n",
    "gStyle.SetPadBottomMargin(0.18)\n",
    "gStyle.SetPadTopMargin(0.08)\n",
    "gStyle.SetPadRightMargin(0.08)\n",
    "gStyle.SetPadLeftMargin(0.17)\n",
    "\n",
    "# set the number of divisions to show\n",
    "\n",
    "gStyle.SetNdivisions(510, \"xy\")\n",
    "\n",
    "# show grid\n",
    "\n",
    "gStyle.SetPadGridX(1)\n",
    "gStyle.SetPadGridY(1)\n",
    "\n",
    "# border ploted only around statistics\n",
    "\n",
    "gStyle.SetPadBorderMode(0)\n",
    "gStyle.SetFrameBorderMode(0)\n",
    "gStyle.SetLegendBorderSize(0)\n",
    "gStyle.SetTitleBorderSize(0)\n",
    "gStyle.SetStatBorderSize(1)\n",
    "\n",
    "# Text sizes\n",
    "\n",
    "gStyle.SetTextSize(0.05)\n",
    "gStyle.SetTitleSize(0.06,\"xyz\")\n",
    "gStyle.SetLabelSize(0.05,\"xyz\")\n",
    "\n",
    "gStyle.SetLabelOffset(0.015,\"xyz\")\n",
    "gStyle.SetTitleOffset(1.2,\"yz\")\n",
    "gStyle.SetTitleOffset(1.2,\"x\")\n",
    "\n",
    "# Font settings\n",
    "\n",
    "font = 42\n",
    "gStyle.SetTitleFont(font)\n",
    "gStyle.SetTitleFontSize(0.05)\n",
    "gStyle.SetStatFont(font)\n",
    "gStyle.SetStatFontSize(0.06)\n",
    "gStyle.SetTextFont(font)\n",
    "gStyle.SetLabelFont(font,\"xyz\")\n",
    "gStyle.SetTitleFont(font,\"xyz\")\n",
    "gStyle.SetLegendFont(font)\n",
    "\n",
    "# Line settings\n",
    "\n",
    "gStyle.SetHistLineWidth(2)\n",
    "gStyle.SetFrameLineWidth(2)\n",
    "gStyle.SetFuncWidth(2)\n",
    "gStyle.SetHistLineColor(kBlue)\n",
    "gStyle.SetFuncColor(kRed)\n",
    "\n",
    "# Log scale\n",
    "gStyle.SetOptLogy(0)\n",
    "\n",
    "# Histogram title\n",
    "gStyle.SetOptTitle(1)  \n",
    "\n",
    "# Histogram statistics\n",
    "gStyle.SetOptStat(1100)\n",
    "\n",
    "# Fit results\n",
    "gStyle.SetOptFit(0) \n"
   ]
  },
  {
   "cell_type": "markdown",
   "metadata": {
    "jp-MarkdownHeadingCollapsed": true,
    "tags": []
   },
   "source": [
    "### Part I\n",
    "### Maximum energy transfer"
   ]
  },
  {
   "cell_type": "code",
   "execution_count": 3,
   "metadata": {},
   "outputs": [],
   "source": [
    "# Maximum energy transfer in relativistic colistion\n",
    "# of projectile with momentum p and mass M, to target with mass m\n",
    "# Units:  c = 1\n",
    "\n",
    "def Wmax(p,M,m):\n",
    "    betagamma = p/M\n",
    "    gamma = sqrt(1+betagamma*betagamma)\n",
    "    \n",
    "    val = 2*m*betagamma*betagamma\n",
    "    corr = 1 + 2*gamma*(m/M) + (m/M)*(m/M)\n",
    "    \n",
    "    return val/corr\n",
    "\n",
    "# Low energy approximation\n",
    "\n",
    "def Wmaxle(p,M,m):\n",
    "    betagamma = p/M\n",
    "    gamma = sqrt(1+betagamma*betagamma)\n",
    "    \n",
    "    val = 2*m*betagamma*betagamma\n",
    "#    corr = 1 + 2*gamma*(m/M) + (m/M)*(m/M)\n",
    "    \n",
    "    return val"
   ]
  },
  {
   "cell_type": "code",
   "execution_count": 4,
   "metadata": {},
   "outputs": [
    {
     "data": {
      "image/png": "[encoded data removed]",
      "text/plain": [
       "<IPython.core.display.Image object>"
      ]
     },
     "execution_count": 4,
     "metadata": {},
     "output_type": "execute_result"
    },
    {
     "name": "stderr",
     "output_type": "stream",
     "text": [
      "Info in <TCanvas::Print>: png file Wmax.png has been created\n"
     ]
    }
   ],
   "source": [
    "# Define root function to plot the momentum transfer\n",
    "# Mass energy and momentum given in MeV\n",
    "\n",
    "# Projectile mass\n",
    "\n",
    "Mp = 938.272081    # proton\n",
    "# Mp = 105.6583745   # muon\n",
    "\n",
    "# Target mass\n",
    "\n",
    "me = 0.51099895    # electron\n",
    "\n",
    "\n",
    "def funWmax(x,par):\n",
    "    return Wmax(x[0],par[0],par[1])\n",
    "\n",
    "def funWmaxle(x,par):\n",
    "    return Wmaxle(x[0],par[0],par[1])\n",
    "\n",
    "\n",
    "fWmax=TF1(\"fWmax\",funWmax,99.,100000.,2)\n",
    "fWmax.SetTitle(\"Maximum energy transfer in single collision\")\n",
    "fWmax.SetParameter(0,Mp)   \n",
    "fWmax.SetParameter(1,me) \n",
    "fWmax.SetNpx(1000)\n",
    "fWmax.SetMinimum(1E-2)\n",
    "fWmax.GetXaxis().SetTitle(\"Particle momentum [MeV/c]\")\n",
    "fWmax.GetYaxis().SetTitle(\"W_{max}  [MeV]\")\n",
    "\n",
    "fWmaxle=TF1(\"fWmaxle\",funWmaxle,99.,1000000.,2)\n",
    "fWmaxle.SetParameter(0,Mp)  \n",
    "fWmaxle.SetParameter(1,me)\n",
    "\n",
    "# Display function\n",
    "\n",
    "cWmax=TCanvas('cWmax')\n",
    "fWmax.Draw()\n",
    "\n",
    "fWmaxle.SetLineStyle(2)\n",
    "fWmaxle.Draw(\"same\")\n",
    "\n",
    "cWmax.SetLogx(1)\n",
    "cWmax.SetLogy(1)\n",
    "cWmax.Update()\n",
    "cWmax.Print('Wmax.png')\n",
    "\n",
    "Image(filename='Wmax.png')"
   ]
  },
  {
   "cell_type": "markdown",
   "metadata": {
    "jp-MarkdownHeadingCollapsed": true,
    "tags": []
   },
   "source": [
    "### Part II\n",
    "### Energy transfer in single collision"
   ]
  },
  {
   "cell_type": "code",
   "execution_count": 5,
   "metadata": {},
   "outputs": [
    {
     "data": {
      "image/png": "[encoded data removed]",
      "text/plain": [
       "<IPython.core.display.Image object>"
      ]
     },
     "execution_count": 5,
     "metadata": {},
     "output_type": "execute_result"
    }
   ],
   "source": [
    "# Fine coupling constant\n",
    "aem = 1/137.035999139\n",
    "\n",
    "# Unit conversion factor \n",
    "hc = 197.3269788  # MeV * fm \n",
    "\n",
    "# Momentum transfer in quasi-statical approximation (Bohr)\n",
    "Image(filename='bohr_calc_new.png')"
   ]
  },
  {
   "cell_type": "code",
   "execution_count": 6,
   "metadata": {},
   "outputs": [],
   "source": [
    "# Projectile with charge ze and velocity beta[c] \n",
    "# at distance b[fm] from electron at rest\n",
    "\n",
    "def dp(b,p,M,z=1):\n",
    "    betagamma = p/M\n",
    "    beta = betagamma/sqrt(1+betagamma*betagamma)\n",
    "    val = 2*z*aem/b/beta\n",
    "    return val*hc\n",
    "\n",
    "# Corresponding energy transfer to electron (classical)\n",
    "def dE(b,p,M,z=1):\n",
    "    pe = dp(b,p,M,z)\n",
    "    return pe*pe/me/2."
   ]
  },
  {
   "cell_type": "code",
   "execution_count": 7,
   "metadata": {},
   "outputs": [
    {
     "data": {
      "image/png": "[encoded data removed]",
      "text/plain": [
       "<IPython.core.display.Image object>"
      ]
     },
     "execution_count": 7,
     "metadata": {},
     "output_type": "execute_result"
    },
    {
     "name": "stderr",
     "output_type": "stream",
     "text": [
      "Info in <TCanvas::Print>: png file dE.png has been created\n"
     ]
    }
   ],
   "source": [
    "# Projectile momentum for the plot\n",
    "\n",
    "pp = 1000   # MeV (!)\n",
    "\n",
    "def fundE(x,par):\n",
    "    return dE(x[0],par[0],par[1])\n",
    "\n",
    "fdE=TF1(\"fdE\",fundE,1.,10000.,2)\n",
    "fdE.SetTitle(\"Energy transfer in single collision\")\n",
    "fdE.SetParameter(0,pp)   \n",
    "fdE.SetParameter(1,Mp) \n",
    "fdE.SetNpx(1000)\n",
    "fdE.GetXaxis().SetTitle(\"Impact parameter [fm]\")\n",
    "fdE.GetYaxis().SetTitle(\"#Delta E  [MeV]\")\n",
    "\n",
    "cdE=TCanvas('cdE')\n",
    "cdE.SetLogx(1)\n",
    "cdE.SetLogy(1)\n",
    "\n",
    "fdE.Draw()\n",
    "\n",
    "# Add maximum energy transfer line\n",
    "Emax = Wmax(pp,Mp,me)\n",
    "\n",
    "lmax = TLine(1.,Emax,100.,Emax)\n",
    "lmax.SetLineStyle(7)\n",
    "lmax.SetLineColor(2)\n",
    "lmax.SetLineWidth(3)\n",
    "lmax.Draw(\"same\")\n",
    "\n",
    "# Ionisation energy line (10 eV)\n",
    "\n",
    "Emin = 0.00001\n",
    "\n",
    "lmin = TLine(100.,Emin,10000.,Emin)\n",
    "lmin.SetLineStyle(7)\n",
    "lmin.SetLineColor(2)\n",
    "lmin.SetLineWidth(3)\n",
    "lmin.Draw(\"same\")\n",
    "\n",
    "\n",
    "cdE.Update()\n",
    "cdE.Print('dE.png')\n",
    "\n",
    "Image(filename='dE.png')"
   ]
  },
  {
   "cell_type": "markdown",
   "metadata": {
    "jp-MarkdownHeadingCollapsed": true,
    "tags": []
   },
   "source": [
    "### Part III\n",
    "### Average ionisation loss"
   ]
  },
  {
   "cell_type": "code",
   "execution_count": 8,
   "metadata": {},
   "outputs": [],
   "source": [
    "# Avogadro constant \n",
    "NA = 6.022140857E+23\n",
    "\n",
    "# Medium properties (for water)\n",
    "Z2A = 0.55509 \n",
    "rho = 1.0        # g/cm^3\n",
    "\n",
    "# Combination of constants\n",
    "K = 0.307075     # MeV*cm^2/mol\n",
    "\n",
    "def dEdx(p,M,z=1):\n",
    "    betagamma = p/M\n",
    "    beta = betagamma/sqrt(1+betagamma*betagamma)\n",
    "# Simplified model    \n",
    "    val = K*rho*Z2A*z*z/beta/beta*0.5*log(Wmax(p,M,me)/Emin)\n",
    "# Full model (without density corrections)\n",
    "#   val = K*rho*Z2A*z*z/beta/beta*(0.5*log(Wmax(p,M,me)*Wmaxle(p,M,me)/Emin/Emin)-beta*beta)\n",
    "    return val"
   ]
  },
  {
   "cell_type": "code",
   "execution_count": 9,
   "metadata": {},
   "outputs": [
    {
     "data": {
      "image/png": "[encoded data removed]",
      "text/plain": [
       "<IPython.core.display.Image object>"
      ]
     },
     "execution_count": 9,
     "metadata": {},
     "output_type": "execute_result"
    },
    {
     "name": "stderr",
     "output_type": "stream",
     "text": [
      "Info in <TCanvas::Print>: png file dEdx.png has been created\n"
     ]
    }
   ],
   "source": [
    "def fundEdx(x,par):\n",
    "    return dEdx(x[0],par[0],par[1])\n",
    "\n",
    "fdEdx=TF1(\"fdEdx\",fundEdx,100.,10000000.,2)\n",
    "fdEdx.SetTitle(\"Average energy loss\")\n",
    "fdEdx.SetParameter(0,Mp)   \n",
    "fdEdx.SetParameter(1,1) \n",
    "fdEdx.SetNpx(1000)\n",
    "fdEdx.SetMinimum(1.)\n",
    "fdEdx.SetMaximum(20.)\n",
    "fdEdx.GetXaxis().SetTitle(\"Particle momentum [MeV]\")\n",
    "fdEdx.GetYaxis().SetTitle(\"-dE/dx  [MeV/cm]\")\n",
    "\n",
    "cdEdx=TCanvas('cdEdx')\n",
    "cdEdx.SetLogx(1)\n",
    "cdEdx.SetLogy(1)\n",
    "\n",
    "fdEdx.Draw()\n",
    "\n",
    "cdEdx.Update()\n",
    "cdEdx.Print('dEdx.png')\n",
    "\n",
    "Image(filename='dEdx.png')"
   ]
  },
  {
   "cell_type": "code",
   "execution_count": null,
   "metadata": {},
   "outputs": [],
   "source": []
  }
 ],
 "metadata": {
  "kernelspec": {
   "display_name": "Python 3",
   "language": "python",
   "name": "python3"
  },
  "language_info": {
   "codemirror_mode": {
    "name": "ipython",
    "version": 3
   },
   "file_extension": ".py",
   "mimetype": "text/x-python",
   "name": "python",
   "nbconvert_exporter": "python",
   "pygments_lexer": "ipython3",
   "version": "3.9.7"
  }
 },
 "nbformat": 4,
 "nbformat_minor": 4
}
