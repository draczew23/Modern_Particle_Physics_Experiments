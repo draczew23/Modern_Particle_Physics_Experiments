{
 "cells": [
  {
   "cell_type": "markdown",
   "metadata": {
    "tags": []
   },
   "source": [
    "# Landau distribution\n",
    "Author: Aleksander Filip Żarnecki (University of Warsaw)"
   ]
  },
  {
   "cell_type": "markdown",
   "metadata": {
    "jp-MarkdownHeadingCollapsed": true,
    "tags": []
   },
   "source": [
    "### (1) Using root implementation of the function"
   ]
  },
  {
   "cell_type": "code",
   "execution_count": 1,
   "metadata": {},
   "outputs": [
    {
     "name": "stdout",
     "output_type": "stream",
     "text": [
      "Welcome to JupyROOT 6.24/04\n"
     ]
    }
   ],
   "source": [
    "import math\n",
    "from ROOT import *\n",
    "import numpy as np\n",
    "\n",
    "# For inline image display\n",
    "from IPython.display import Image"
   ]
  },
  {
   "cell_type": "code",
   "execution_count": 2,
   "metadata": {},
   "outputs": [],
   "source": [
    "# Set ROOT graphics options\n",
    "\n",
    "gROOT.SetStyle(\"Plain\")\n",
    "\n",
    "# Default canvas  size\n",
    "\n",
    "gStyle.SetCanvasDefW(800)\n",
    "gStyle.SetCanvasDefH(700)\n",
    " \n",
    "# set the margins\n",
    "  \n",
    "gStyle.SetPadBottomMargin(0.18)\n",
    "gStyle.SetPadTopMargin(0.08)\n",
    "gStyle.SetPadRightMargin(0.08)\n",
    "gStyle.SetPadLeftMargin(0.17)\n",
    "\n",
    "# set the number of divisions to show\n",
    "\n",
    "gStyle.SetNdivisions(510, \"xy\")\n",
    "\n",
    "# show grid\n",
    "\n",
    "gStyle.SetPadGridX(1)\n",
    "gStyle.SetPadGridY(1)\n",
    "\n",
    "# border ploted only around statistics\n",
    "\n",
    "gStyle.SetPadBorderMode(0)\n",
    "gStyle.SetFrameBorderMode(0)\n",
    "gStyle.SetLegendBorderSize(0)\n",
    "gStyle.SetTitleBorderSize(0)\n",
    "gStyle.SetStatBorderSize(1)\n",
    "\n",
    "# Text sizes\n",
    "\n",
    "gStyle.SetTextSize(0.05)\n",
    "gStyle.SetTitleSize(0.06,\"xyz\")\n",
    "gStyle.SetLabelSize(0.05,\"xyz\")\n",
    "\n",
    "gStyle.SetLabelOffset(0.015,\"xyz\")\n",
    "gStyle.SetTitleOffset(1.2,\"yz\")\n",
    "gStyle.SetTitleOffset(1.0,\"x\")\n",
    "\n",
    "# Font settings\n",
    "\n",
    "font = 42\n",
    "gStyle.SetTitleFont(font)\n",
    "gStyle.SetTitleFontSize(0.05)\n",
    "gStyle.SetStatFont(font)\n",
    "gStyle.SetStatFontSize(0.06)\n",
    "gStyle.SetTextFont(font)\n",
    "gStyle.SetLabelFont(font,\"xyz\")\n",
    "gStyle.SetTitleFont(font,\"xyz\")\n",
    "gStyle.SetLegendFont(font)\n",
    "\n",
    "# Line settings\n",
    "\n",
    "gStyle.SetHistLineWidth(2)\n",
    "gStyle.SetFrameLineWidth(2)\n",
    "gStyle.SetFuncWidth(2)\n",
    "gStyle.SetHistLineColor(kBlue)\n",
    "gStyle.SetFuncColor(kRed)\n",
    "\n",
    "# Log scale\n",
    "gStyle.SetOptLogy(0)\n",
    "\n",
    "# Histogram title\n",
    "gStyle.SetOptTitle(1)  \n",
    "\n",
    "# Histogram statistics\n",
    "gStyle.SetOptStat(1100)\n",
    "\n",
    "# Fit results\n",
    "gStyle.SetOptFit(0) \n"
   ]
  },
  {
   "cell_type": "code",
   "execution_count": 3,
   "metadata": {},
   "outputs": [
    {
     "data": {
      "image/png": "[encoded data removed]",
      "text/plain": [
       "<IPython.core.display.Image object>"
      ]
     },
     "execution_count": 3,
     "metadata": {},
     "output_type": "execute_result"
    },
    {
     "name": "stderr",
     "output_type": "stream",
     "text": [
      "Info in <TCanvas::Print>: png file Landau.png has been created\n"
     ]
    }
   ],
   "source": [
    "# My interface to the Landau distribution from ROOT\n",
    "\n",
    "def myLan(x, par):\n",
    "    return par[0]*TMath.Landau(x[0],par[1],par[2])\n",
    "\n",
    "\n",
    "# Define root function\n",
    "# Parameters chosen to get \"standard\" shape: maximum at 1.0 with height of 1.0\n",
    "\n",
    "flan=TF1(\"flan\",myLan,0.,10.,3)\n",
    "flan.SetParameter(0,5.5353933)\n",
    "flan.SetParameter(1,1.04456)\n",
    "flan.SetParameter(2,0.2)\n",
    "flan.SetTitle(\"Landau distribution\")\n",
    "\n",
    "# Display function\n",
    "\n",
    "cLan=TCanvas('cLan')\n",
    "flan.SetNpx(10000)\n",
    "flan.SetMinimum(1E-3)\n",
    "flan.GetXaxis().SetTitle(\"Energy loss [a.u.]\")\n",
    "flan.GetYaxis().SetTitle(\"p(E)/p_{max}\")\n",
    "flan.Draw()\n",
    "\n",
    "cLan.Update()\n",
    "cLan.Print('Landau.png')\n",
    "\n",
    "Image(filename='Landau.png')"
   ]
  },
  {
   "cell_type": "code",
   "execution_count": 4,
   "metadata": {},
   "outputs": [
    {
     "name": "stdout",
     "output_type": "stream",
     "text": [
      "Average value from histogram:  1.7005283597572596\n",
      "RMS value from histogram:      1.263773555459338\n"
     ]
    }
   ],
   "source": [
    "# Check mean and rms of the plotted function\n",
    "\n",
    "print('Average value from histogram: ',flan.GetHistogram().GetMean())\n",
    "print('RMS value from histogram:     ',flan.GetHistogram().GetRMS())"
   ]
  },
  {
   "cell_type": "markdown",
   "metadata": {
    "jp-MarkdownHeadingCollapsed": true,
    "tags": []
   },
   "source": [
    "\n",
    "### \n",
    "\n",
    "### (2) Generating rantom numbers from Landau distribution\n"
   ]
  },
  {
   "cell_type": "code",
   "execution_count": 5,
   "metadata": {},
   "outputs": [],
   "source": [
    "# My interface to the integrated Landau distribution from ROOT\n",
    "# (taking into account shift and scaling defined above)\n",
    "\n",
    "def myLanI(x):\n",
    "    return TMath.LandauI(5.0*(x-1.04456))\n",
    "\n",
    "# Procedure for generation random number from Landau distribution\n",
    "\n",
    "# gRandom.SetSeed(2018)\n",
    "\n",
    "prec=0.001\n",
    "\n",
    "def LanRnd():\n",
    "    oldval = 0.    \n",
    "    oldx=0.\n",
    "    step=1.\n",
    "    val = gRandom.Uniform(1.)\n",
    "#    print('Target val: ',val)\n",
    "    \n",
    "    while step>prec:\n",
    "        newx=oldx+step\n",
    "        newval=myLanI(newx)\n",
    "#        print('Step = ',step,'  x = ',newx,' val = ',newval)\n",
    "\n",
    "        if newval < val:\n",
    "            oldx=newx\n",
    "            oldval=newval\n",
    "            step=2.0*step\n",
    "        else:\n",
    "            step=0.5*step\n",
    "     \n",
    "#    print('Found value of x = ',oldx,' corresponding to val = ',myLanI(oldx))\n",
    "    return oldx\n"
   ]
  },
  {
   "cell_type": "code",
   "execution_count": 6,
   "metadata": {},
   "outputs": [
    {
     "data": {
      "image/png": "[encoded data removed]",
      "text/plain": [
       "<IPython.core.display.Image object>"
      ]
     },
     "execution_count": 6,
     "metadata": {},
     "output_type": "execute_result"
    },
    {
     "name": "stderr",
     "output_type": "stream",
     "text": [
      "Info in <TCanvas::Print>: png file Landau2.png has been created\n"
     ]
    }
   ],
   "source": [
    "# Define histogram and fill it with generated numbers\n",
    "\n",
    "ngen = 10000\n",
    "\n",
    "data = []\n",
    "data.clear()\n",
    "\n",
    "hLan = TH1D('hLan','Random numbers from Landau distribution',100, 0., 10.)\n",
    "hLan.SetStats(1)\n",
    "hLan.GetXaxis().SetTitle(\"Energy loss [a.u.]\")\n",
    "hLan.GetYaxis().SetTitle(\"Events\")\n",
    "\n",
    "for i in  range(ngen):\n",
    "    lx=LanRnd()\n",
    "    data.append(lx)\n",
    "    hLan.Fill(lx)\n",
    "\n",
    "cLan2 = TCanvas('cLan2')\n",
    "\n",
    "hLan.DrawCopy()\n",
    "\n",
    "cLan2.Update()\n",
    "cLan2.Print('Landau2.png')\n",
    "\n",
    "Image(filename='Landau2.png')"
   ]
  },
  {
   "cell_type": "code",
   "execution_count": 7,
   "metadata": {},
   "outputs": [
    {
     "name": "stdout",
     "output_type": "stream",
     "text": [
      "Average value from PDF histogram:  1.7005283597572596\n",
      "RMS value from PDF histogram :     1.263773555459338\n",
      "\n",
      "10000 random data generated from Landau PDF\n",
      "Average value from data histogram:  1.707672936659653\n",
      "RMS value from data histogram:      1.2788273473926004\n",
      "\n",
      "Relative histogram width:      0.7488713558312229\n"
     ]
    }
   ],
   "source": [
    "# Give mean and rms of the plotted function again (same as before, for reference)\n",
    "\n",
    "print('Average value from PDF histogram: ',flan.GetHistogram().GetMean())\n",
    "print('RMS value from PDF histogram :    ',flan.GetHistogram().GetRMS())\n",
    "print('')\n",
    "\n",
    "# Check mean and rms of generated data from histogram (!)\n",
    "\n",
    "print(ngen,'random data generated from Landau PDF')\n",
    "print('Average value from data histogram: ',hLan.GetMean())\n",
    "print('RMS value from data histogram:     ',hLan.GetRMS())\n",
    "\n",
    "print('')\n",
    "print('Relative histogram width:     ',hLan.GetRMS()/hLan.GetMean())\n"
   ]
  },
  {
   "cell_type": "code",
   "execution_count": 8,
   "metadata": {},
   "outputs": [
    {
     "name": "stdout",
     "output_type": "stream",
     "text": [
      "Maximum generated value:      9609.931640625\n",
      "Average value from all data:  4.8056830078125\n",
      "RMS value from all data:      125.08399758919697\n"
     ]
    }
   ],
   "source": [
    "# Check mean and RMS of generated data\n",
    "\n",
    "print('Maximum generated value:     ',np.nanmax(data))\n",
    "print('Average value from all data: ',np.mean(data))\n",
    "print('RMS value from all data:     ',np.std(data))\n"
   ]
  },
  {
   "cell_type": "markdown",
   "metadata": {
    "jp-MarkdownHeadingCollapsed": true,
    "tags": []
   },
   "source": [
    "\n",
    "###\n",
    "\n",
    "### (3) Undertanding properties of the Landau distribution\n"
   ]
  },
  {
   "cell_type": "code",
   "execution_count": 9,
   "metadata": {},
   "outputs": [
    {
     "data": {
      "image/png": "[encoded data removed]",
      "text/plain": [
       "<IPython.core.display.Image object>"
      ]
     },
     "execution_count": 9,
     "metadata": {},
     "output_type": "execute_result"
    },
    {
     "name": "stderr",
     "output_type": "stream",
     "text": [
      "Info in <TCanvas::Print>: png file Landau3.png has been created\n"
     ]
    }
   ],
   "source": [
    "# Define histogram and filling with sums of Nsum numbers generated from Landau distribution\n",
    "\n",
    "# nsum = 1 reproduces results from Part II (single random number)\n",
    "# Change to higher value (eg. 9, 25, 100) for sum of nsum Landau distributed numbers\n",
    "\n",
    "nsum = 1\n",
    "ngen = 10000\n",
    "\n",
    "sums = []\n",
    "sums.clear()\n",
    "\n",
    "# To get similar coverage for different nsum\n",
    "\n",
    "xmax = 10.*nsum*(1+log(1.0*nsum)/log(100.))\n",
    "\n",
    "hLan2 = TH1D('hLan2','Sums of random numbers from Landau distribution',100, 0., xmax)\n",
    "hLan2.SetStats(1)\n",
    "hLan2.GetXaxis().SetTitle(\"Energy loss [a.u.]\")\n",
    "hLan2.GetYaxis().SetTitle(\"Events\")\n",
    "\n",
    "for i in  range(ngen):\n",
    "    lx=0\n",
    "    for j in range(nsum):\n",
    "        lx=lx+LanRnd()\n",
    "    sums.append(lx)\n",
    "    hLan2.Fill(lx)\n",
    "\n",
    "cLan3 = TCanvas('cLan3')\n",
    "\n",
    "hLan2.DrawCopy()\n",
    "\n",
    "cLan3.Update()\n",
    "cLan3.Print('Landau3.png')\n",
    "\n",
    "Image(filename='Landau3.png')"
   ]
  },
  {
   "cell_type": "code",
   "execution_count": 10,
   "metadata": {},
   "outputs": [
    {
     "name": "stdout",
     "output_type": "stream",
     "text": [
      "10000 sums of 1 numbers from Landau PDF generated\n",
      "Average value from sum histogram:  1.7031140094255166\n",
      "RMS value from sum histogram:      1.2896068875822695\n",
      "\n",
      "Relative histogram width:      0.7572052607430969\n",
      "\n",
      "Maximum generated value:           6578.412109375\n",
      "Average value from all sums:       3.051387890625\n",
      "RMS value from all sums:           66.63910027143102\n"
     ]
    }
   ],
   "source": [
    "# Check mean and RMS of generated data\n",
    "\n",
    "print(ngen,'sums of',nsum,'numbers from Landau PDF generated')\n",
    "print('Average value from sum histogram: ',hLan2.GetMean())\n",
    "print('RMS value from sum histogram:     ',hLan2.GetRMS())\n",
    "print('')\n",
    "print('Relative histogram width:     ',hLan2.GetRMS()/hLan2.GetMean())\n",
    "print('')\n",
    "print('Maximum generated value:          ',np.nanmax(sums))\n",
    "print('Average value from all sums:      ',np.mean(sums))\n",
    "print('RMS value from all sums:          ',np.std(sums))"
   ]
  }
 ],
 "metadata": {
  "kernelspec": {
   "display_name": "Python 3",
   "language": "python",
   "name": "python3"
  },
  "language_info": {
   "codemirror_mode": {
    "name": "ipython",
    "version": 3
   },
   "file_extension": ".py",
   "mimetype": "text/x-python",
   "name": "python",
   "nbconvert_exporter": "python",
   "pygments_lexer": "ipython3",
   "version": "3.9.7"
  }
 },
 "nbformat": 4,
 "nbformat_minor": 4
}
