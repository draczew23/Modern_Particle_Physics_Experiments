{
 "cells": [
  {
   "cell_type": "markdown",
   "metadata": {
    "tags": []
   },
   "source": [
    "# EM Shower and calorimeters\n",
    "Author: Aleksander Filip Żarnecki (University of Warsaw)"
   ]
  },
  {
   "cell_type": "markdown",
   "metadata": {
    "jp-MarkdownHeadingCollapsed": true,
    "tags": []
   },
   "source": [
    "### (0) Import libraries "
   ]
  },
  {
   "cell_type": "code",
   "execution_count": 1,
   "metadata": {},
   "outputs": [
    {
     "name": "stdout",
     "output_type": "stream",
     "text": [
      "Welcome to JupyROOT 6.24/04\n"
     ]
    }
   ],
   "source": [
    "import math\n",
    "from ROOT import *\n",
    "import numpy as np\n",
    "\n",
    "# For inline image display\n",
    "from IPython.display import Image"
   ]
  },
  {
   "cell_type": "markdown",
   "metadata": {
    "jp-MarkdownHeadingCollapsed": true,
    "tags": []
   },
   "source": [
    "### (1) ROOT settings"
   ]
  },
  {
   "cell_type": "code",
   "execution_count": 2,
   "metadata": {},
   "outputs": [],
   "source": [
    "# Set ROOT graphics options\n",
    "\n",
    "gROOT.SetStyle(\"Plain\")\n",
    "\n",
    "# Default canvas  size\n",
    "\n",
    "gStyle.SetCanvasDefW(600)\n",
    "gStyle.SetCanvasDefH(400)\n",
    " \n",
    "# set the margins\n",
    "  \n",
    "gStyle.SetPadBottomMargin(0.18)\n",
    "gStyle.SetPadTopMargin(0.08)\n",
    "gStyle.SetPadRightMargin(0.08)\n",
    "gStyle.SetPadLeftMargin(0.17)\n",
    "\n",
    "# set the number of divisions to show\n",
    "\n",
    "gStyle.SetNdivisions(510, \"xy\")\n",
    "\n",
    "# show grid\n",
    "\n",
    "gStyle.SetPadGridX(1)\n",
    "gStyle.SetPadGridY(1)\n",
    "\n",
    "# border ploted only around statistics\n",
    "\n",
    "gStyle.SetPadBorderMode(0)\n",
    "gStyle.SetFrameBorderMode(0)\n",
    "gStyle.SetLegendBorderSize(0)\n",
    "gStyle.SetTitleBorderSize(0)\n",
    "gStyle.SetStatBorderSize(1)\n",
    "\n",
    "# Text sizes\n",
    "\n",
    "gStyle.SetTextSize(0.05)\n",
    "gStyle.SetTitleSize(0.06,\"xyz\")\n",
    "gStyle.SetLabelSize(0.05,\"xyz\")\n",
    "\n",
    "gStyle.SetLabelOffset(0.015,\"xyz\")\n",
    "gStyle.SetTitleOffset(1.2,\"yz\")\n",
    "gStyle.SetTitleOffset(1.0,\"x\")\n",
    "\n",
    "# Font settings\n",
    "\n",
    "font = 42\n",
    "gStyle.SetTitleFont(font)\n",
    "gStyle.SetTitleFontSize(0.05)\n",
    "gStyle.SetStatFont(font)\n",
    "gStyle.SetStatFontSize(0.06)\n",
    "gStyle.SetTextFont(font)\n",
    "gStyle.SetLabelFont(font,\"xyz\")\n",
    "gStyle.SetTitleFont(font,\"xyz\")\n",
    "gStyle.SetLegendFont(font)\n",
    "\n",
    "# Line settings\n",
    "\n",
    "gStyle.SetHistLineWidth(2)\n",
    "gStyle.SetFrameLineWidth(2)\n",
    "gStyle.SetFuncWidth(2)\n",
    "gStyle.SetHistLineColor(kBlue)\n",
    "gStyle.SetFuncColor(kRed)\n",
    "\n",
    "# Log scale\n",
    "gStyle.SetOptLogy(0)\n",
    "\n",
    "# Histogram title\n",
    "gStyle.SetOptTitle(1)  \n",
    "\n",
    "# Histogram statistics\n",
    "gStyle.SetOptStat(1100)\n",
    "\n",
    "# Fit results\n",
    "gStyle.SetOptFit(0) \n"
   ]
  },
  {
   "cell_type": "markdown",
   "metadata": {
    "jp-MarkdownHeadingCollapsed": true,
    "tags": []
   },
   "source": [
    "### (2) Definition of shower class"
   ]
  },
  {
   "cell_type": "code",
   "execution_count": 3,
   "metadata": {},
   "outputs": [],
   "source": [
    "# Class for single shower particle\n",
    "\n",
    "class shParticle:\n",
    "    'Particle of the EM shower (in 1D)'\n",
    "    E = 0.0\n",
    "    q = 0\n",
    "    xmin = 0.0\n",
    "    xmax = 0.0\n",
    "    \n",
    "    def __init__(self,E,q,xmin):\n",
    "        self.E = E\n",
    "        self.q = q\n",
    "        self.xmin = xmin\n",
    "        self.xmax = xmin\n",
    "        \n",
    "    def __str__(self):\n",
    "        if self.xmin == self.xmax :\n",
    "            return 'E = %g   q = % g    created at X = %g [X0]' % (self.E, self.q, self.xmin)\n",
    "        else :\n",
    "            return 'E = %g   q = % g    propagated from X = %g to %g  [X0]' % (self.E, self.q, self.xmin, self.xmax)\n",
    "        \n",
    "    def setlen(self,shlen):\n",
    "        self.xmax = self.xmin + shlen\n",
    " \n",
    "    def getlen(self):\n",
    "        return self.xmax - self.xmin\n",
    "    \n",
    "    def getsamp(self,dX):\n",
    "        i1 = int(self.xmin/dX)\n",
    "        i2 = int(self.xmax/dX)\n",
    "        return i2-i1\n"
   ]
  },
  {
   "cell_type": "code",
   "execution_count": 4,
   "metadata": {},
   "outputs": [
    {
     "name": "stdout",
     "output_type": "stream",
     "text": [
      "E = 10   q = -1    created at X = 0 [X0]\n",
      "E = 10   q = -1    propagated from X = 0 to 1.2  [X0]\n"
     ]
    }
   ],
   "source": [
    "# Test the particle class\n",
    "\n",
    "x = shParticle(10.,-1.,0.)\n",
    "print(x)\n",
    "x.setlen(1.2)\n",
    "print(x)"
   ]
  },
  {
   "cell_type": "code",
   "execution_count": 5,
   "metadata": {},
   "outputs": [],
   "source": [
    "# EM shower class\n",
    "\n",
    "class emShower:\n",
    "    'Model of EM shower development'\n",
    "\n",
    "    def __init__(self,E0,q0,x0):\n",
    "        # initialize with input particle\n",
    "        self.shower = []\n",
    "        self.shower.append(shParticle(E0,q0,x0))\n",
    "        # only propagated particles are counted\n",
    "        # so set counters to zero at that point\n",
    "        self.npar = 0  \n",
    "        self.nch = 0\n",
    "        self.chlen = 0.0\n",
    "        self.eloss = 0.0\n",
    "\n",
    "    def __str__(self):\n",
    "        return 'Shower with %d particles, %d charged, total track lenght %g X0, energy loss %g GeV' % (self.npar, self.nch, self.chlen, self.eloss)\n",
    "    \n",
    "    def develope(self,Ec,dEdx=0.0):\n",
    "        # consider increasing number of particles in the shower\n",
    "        for par in self.shower :\n",
    "            # conversion/radiation length [X0]\n",
    "            if par.q == 0 :\n",
    "                intlen = 9.0/7.0\n",
    "            else :\n",
    "                intlen = 1.0\n",
    "               \n",
    "            # generate conversion/radiation point\n",
    "            \n",
    "            shlen = np.random.exponential(intlen)\n",
    "            \n",
    "            # check energy loss of particle\n",
    "            \n",
    "            elen = 0\n",
    "            \n",
    "            if par.q != 0 and dEdx > 0 :\n",
    "                elen = shlen * dEdx\n",
    "                if elen > par.E :\n",
    "                    shlen = par.E/dEdx\n",
    "                    elen = par.E\n",
    "            \n",
    "            # propagate particle to this point\n",
    "            \n",
    "            par.setlen(shlen)\n",
    "            self.npar+=1\n",
    "            if par.q != 0 :\n",
    "                self.nch+=1\n",
    "                self.chlen+=shlen\n",
    "                self.eloss+=elen\n",
    "\n",
    "            # Energy at the final point\n",
    "            \n",
    "            Eleft = par.E - elen\n",
    "            \n",
    "            # Final point - origin for new particles\n",
    "            \n",
    "            xnew = par.xmax \n",
    "           \n",
    "            # If above critical energy:\n",
    "            #   convert gamma to two photons or radiate photon\n",
    "            if Eleft > Ec :\n",
    "                E1 = Eleft * np.random.random(1)    #  Very siplified energy splitting\n",
    "                E2 = Eleft - E1\n",
    "                if par.q == 0 :\n",
    "                    self.shower.append(shParticle(E1,+1,xnew))\n",
    "                    self.shower.append(shParticle(E2,-1,xnew))\n",
    "                else:\n",
    "                    self.shower.append(shParticle(E1,par.q,xnew))\n",
    "                    self.shower.append(shParticle(E2,0,xnew))\n",
    "                    \n",
    "    def sample(self,Xsamp):\n",
    "        nsamp = 0\n",
    "        for par in self.shower:\n",
    "            if par.q != 0 :\n",
    "                nsamp += par.getsamp(Xsamp)\n",
    "        return nsamp\n",
    "\n",
    "    def profile(self,Nbin,Xmax):\n",
    "        hprof = TH1D(\"hprof\",\"Shower profile\",Nbin, 0, Xmax)\n",
    "        hprof.GetXaxis().SetTitle(\"x [X0]\")\n",
    "        hprof.GetYaxis().SetTitle(\"Particles\")\n",
    "        dX=Xmax/Nbin\n",
    "        for par in self.shower:\n",
    "            if par.q != 0 :\n",
    "                nx = par.getsamp(dX)\n",
    "                for ix in range(nx):\n",
    "                    hprof.Fill(par.xmin+ix*dX)\n",
    "        return hprof\n",
    "    \n",
    "    def dump(self,Nprt):\n",
    "        for iprt in range(Nprt):\n",
    "            print(self.shower[iprt])\n",
    "            "
   ]
  },
  {
   "cell_type": "markdown",
   "metadata": {
    "jp-MarkdownHeadingCollapsed": true,
    "tags": []
   },
   "source": [
    "### (3) Shower simulation"
   ]
  },
  {
   "cell_type": "code",
   "execution_count": 6,
   "metadata": {},
   "outputs": [
    {
     "name": "stdout",
     "output_type": "stream",
     "text": [
      "E = 5   q = -1    created at X = 0 [X0]\n"
     ]
    }
   ],
   "source": [
    "#  Incident particle\n",
    "\n",
    "E0 = 5.\n",
    "q0 = -1\n",
    "\n",
    "# Initialise shower with incident particle\n",
    "\n",
    "myshower = emShower(E0,q0,0.)\n",
    "\n",
    "print(myshower.shower[0])"
   ]
  },
  {
   "cell_type": "code",
   "execution_count": 7,
   "metadata": {},
   "outputs": [
    {
     "name": "stdout",
     "output_type": "stream",
     "text": [
      "E = 5   q = -1    propagated from X = 0 to 3.98159  [X0]\n",
      "E = 3.09908   q = -1    propagated from X = 3.98159 to 4.58108  [X0]\n",
      "E = 1.82925   q =  0    propagated from X = 3.98159 to 5.80307  [X0]\n",
      "E = 0.609612   q = -1    propagated from X = 4.58108 to 6.60913  [X0]\n",
      "E = 2.47868   q =  0    propagated from X = 4.58108 to 4.73881  [X0]\n",
      "E = 1.34856   q =  1    propagated from X = 5.80307 to 5.95296  [X0]\n",
      "E = 0.48069   q = -1    propagated from X = 5.80307 to 7.0254  [X0]\n",
      "E = 0.238379   q = -1    propagated from X = 6.60913 to 6.82144  [X0]\n",
      "E = 0.334729   q =  0    propagated from X = 6.60913 to 6.99134  [X0]\n",
      "E = 2.10025   q =  1    propagated from X = 4.73881 to 4.88672  [X0]\n"
     ]
    }
   ],
   "source": [
    "# Critical energy [GeV] for Copper\n",
    "\n",
    "Ec = 0.020\n",
    "\n",
    "# Ionization losses [GeV/X0] for Copper (MIP)\n",
    "\n",
    "dEdx = 0.018\n",
    "\n",
    "# Execute shower development procedure\n",
    "\n",
    "myshower.develope(Ec,dEdx)\n",
    "\n",
    "# Test shower dump (first 10 rows)\n",
    "\n",
    "myshower.dump(10)"
   ]
  },
  {
   "cell_type": "code",
   "execution_count": 8,
   "metadata": {},
   "outputs": [
    {
     "name": "stdout",
     "output_type": "stream",
     "text": [
      "Shower with 435 particles, 304 charged, total track lenght 215.603 X0, energy loss 3.88085 GeV\n"
     ]
    }
   ],
   "source": [
    "# Shower summary\n",
    "\n",
    "print(myshower)"
   ]
  },
  {
   "cell_type": "code",
   "execution_count": 9,
   "metadata": {},
   "outputs": [
    {
     "name": "stdout",
     "output_type": "stream",
     "text": [
      "Shower with  435  particles,  304  charged particles\n",
      "Total length of charged particle tracks:  [215.60268153]\n"
     ]
    }
   ],
   "source": [
    "# Direct access to shower information\n",
    "# Can be used to model response of the uniform calorimeter\n",
    "\n",
    "print('Shower with ',myshower.npar,' particles, ',myshower.nch,' charged particles')\n",
    "print('Total length of charged particle tracks: ',myshower.chlen)"
   ]
  },
  {
   "cell_type": "code",
   "execution_count": 10,
   "metadata": {},
   "outputs": [
    {
     "data": {
      "image/png": "[encoded data removed]",
      "text/plain": [
       "<IPython.core.display.Image object>"
      ]
     },
     "execution_count": 10,
     "metadata": {},
     "output_type": "execute_result"
    },
    {
     "name": "stderr",
     "output_type": "stream",
     "text": [
      "Info in <TCanvas::Print>: png file shprofile.png has been created\n"
     ]
    }
   ],
   "source": [
    "# Histogram of the longitudinal shower profile\n",
    "\n",
    "Xmax = 50.\n",
    "Nprof = 200\n",
    "\n",
    "shprofile=myshower.profile(Nprof,Xmax)\n",
    "\n",
    "csh = TCanvas('csh')\n",
    "\n",
    "shprofile.DrawCopy()\n",
    "\n",
    "csh.Update()\n",
    "csh.Print('shprofile.png')\n",
    "\n",
    "Image(filename='shprofile.png')"
   ]
  },
  {
   "cell_type": "markdown",
   "metadata": {
    "jp-MarkdownHeadingCollapsed": true,
    "tags": []
   },
   "source": [
    "### (4) Average profile"
   ]
  },
  {
   "cell_type": "code",
   "execution_count": 11,
   "metadata": {},
   "outputs": [
    {
     "name": "stdout",
     "output_type": "stream",
     "text": [
      "100  showers generated  407  particles\n",
      "200  showers generated  465  particles\n",
      "300  showers generated  437  particles\n",
      "400  showers generated  423  particles\n",
      "500  showers generated  421  particles\n",
      "600  showers generated  423  particles\n",
      "700  showers generated  397  particles\n",
      "800  showers generated  391  particles\n",
      "900  showers generated  413  particles\n",
      "1000  showers generated  437  particles\n"
     ]
    }
   ],
   "source": [
    "# Repeat shower simulation multiple times\n",
    "\n",
    "avprofile=shprofile\n",
    "avprofile.SetNameTitle(\"havprof\",\"Average shower profile\")\n",
    "avprofile.Reset()\n",
    "\n",
    "Nmc = 1000\n",
    "myshowers = []\n",
    "\n",
    "for imc in range(Nmc):\n",
    "    newshower = emShower(E0,q0,0.)\n",
    "    newshower.develope(Ec,dEdx)\n",
    "    myshowers.append(newshower)\n",
    "    if (imc+1)%100 == 0:\n",
    "        print(imc+1,' showers generated ',myshowers[imc].npar,' particles')"
   ]
  },
  {
   "cell_type": "code",
   "execution_count": 12,
   "metadata": {},
   "outputs": [
    {
     "data": {
      "image/png": "[encoded data removed]",
      "text/plain": [
       "<IPython.core.display.Image object>"
      ]
     },
     "execution_count": 12,
     "metadata": {},
     "output_type": "execute_result"
    },
    {
     "name": "stderr",
     "output_type": "stream",
     "text": [
      "Info in <TCanvas::Print>: png file avprofile.png has been created\n"
     ]
    }
   ],
   "source": [
    "# Average generated showers\n",
    "\n",
    "wmc = 1/Nmc\n",
    "\n",
    "for newshower in myshowers:\n",
    "    newprofile=newshower.profile(Nprof,Xmax)\n",
    "#    newprofile=myshowers[imc].profile(Nprof,Xmax)\n",
    "    avprofile.Add(newprofile,wmc)\n",
    "    newprofile.Delete()\n",
    "\n",
    "csh2 = TCanvas('csh2')\n",
    "\n",
    "avprofile.DrawCopy()\n",
    "\n",
    "csh2.Update()\n",
    "csh2.Print('avprofile.png')\n",
    "\n",
    "Image(filename='avprofile.png')"
   ]
  },
  {
   "cell_type": "markdown",
   "metadata": {
    "jp-MarkdownHeadingCollapsed": true,
    "tags": []
   },
   "source": [
    "### (5) Uniform calorimeter"
   ]
  },
  {
   "cell_type": "code",
   "execution_count": 13,
   "metadata": {},
   "outputs": [
    {
     "data": {
      "image/png": "[encoded data removed]",
      "text/plain": [
       "<IPython.core.display.Image object>"
      ]
     },
     "execution_count": 13,
     "metadata": {},
     "output_type": "execute_result"
    },
    {
     "name": "stderr",
     "output_type": "stream",
     "text": [
      "Info in <TCanvas::Print>: png file hchlen.png has been created\n"
     ]
    }
   ],
   "source": [
    "# Prepare response histograms\n",
    "\n",
    "Nbin = 100\n",
    "\n",
    "Lmax = 1.5*E0/Ec\n",
    "\n",
    "hchlen = TH1D(\"hchlen\",\"Total shower track length\",Nbin, 0, Lmax)\n",
    "hchlen.GetXaxis().SetTitle(\"L_{ch} [X0]\")\n",
    "hchlen.GetYaxis().SetTitle(\"Events\")\n",
    "\n",
    "# Scan simulated showers\n",
    "\n",
    "dchlen = []\n",
    "dchlen.clear()\n",
    "\n",
    "for shower in myshowers:\n",
    "    dchlen.append(shower.chlen)\n",
    "    hchlen.Fill(shower.chlen)\n",
    "\n",
    "\n",
    "clen = TCanvas('clen')\n",
    "\n",
    "hchlen.DrawCopy()\n",
    "\n",
    "clen.Update()\n",
    "clen.Print('hchlen.png')\n",
    "\n",
    "Image(filename='hchlen.png')"
   ]
  },
  {
   "cell_type": "code",
   "execution_count": 14,
   "metadata": {},
   "outputs": [
    {
     "name": "stdout",
     "output_type": "stream",
     "text": [
      "Uniform calorimeter model:  2.505373744994728 % resolution\n"
     ]
    }
   ],
   "source": [
    "print('Uniform calorimeter model: ',100*np.std(dchlen)/np.mean(dchlen),'% resolution')"
   ]
  },
  {
   "cell_type": "markdown",
   "metadata": {
    "jp-MarkdownHeadingCollapsed": true,
    "tags": []
   },
   "source": [
    "### (6) Sampling calorimeter"
   ]
  },
  {
   "cell_type": "code",
   "execution_count": 15,
   "metadata": {},
   "outputs": [
    {
     "data": {
      "image/png": "[encoded data removed]",
      "text/plain": [
       "<IPython.core.display.Image object>"
      ]
     },
     "execution_count": 15,
     "metadata": {},
     "output_type": "execute_result"
    },
    {
     "name": "stderr",
     "output_type": "stream",
     "text": [
      "Info in <TCanvas::Print>: png file hchhit.png has been created\n"
     ]
    }
   ],
   "source": [
    "# Sampling distance [X0]\n",
    "\n",
    "Xsamp = 1.0\n",
    "\n",
    "# Prepare response histograms\n",
    "\n",
    "Nbin = 94\n",
    "\n",
    "Lmax = 1.5*E0/Ec\n",
    "Nmax = Lmax/Xsamp\n",
    "\n",
    "hchhit = TH1D(\"hchhit\",\"Total number of hits\",Nbin, 0, Nmax)\n",
    "hchhit.GetXaxis().SetTitle(\"Hit count\")\n",
    "hchhit.GetYaxis().SetTitle(\"Events\")\n",
    "\n",
    "# Sample generated showers\n",
    "dchhit = []\n",
    "dchhit.clear()\n",
    "\n",
    "for shower in myshowers:\n",
    "    nsamp=shower.sample(Xsamp)\n",
    "    dchhit.append(nsamp)\n",
    "    hchhit.Fill(nsamp)\n",
    "\n",
    "# Plot histogram\n",
    "\n",
    "chit = TCanvas('chit')\n",
    "\n",
    "hchhit.DrawCopy()\n",
    "\n",
    "chit.Update()\n",
    "chit.Print('hchhit.png')\n",
    "\n",
    "Image(filename='hchhit.png')"
   ]
  },
  {
   "cell_type": "code",
   "execution_count": 16,
   "metadata": {},
   "outputs": [
    {
     "name": "stdout",
     "output_type": "stream",
     "text": [
      "Sampling calorimeter model:  4.068427856822652 % resolution\n"
     ]
    }
   ],
   "source": [
    "print('Sampling calorimeter model: ',100*np.std(dchhit)/np.mean(dchhit),'% resolution')"
   ]
  }
 ],
 "metadata": {
  "kernelspec": {
   "display_name": "Python 3",
   "language": "python",
   "name": "python3"
  },
  "language_info": {
   "codemirror_mode": {
    "name": "ipython",
    "version": 3
   },
   "file_extension": ".py",
   "mimetype": "text/x-python",
   "name": "python",
   "nbconvert_exporter": "python",
   "pygments_lexer": "ipython3",
   "version": "3.9.7"
  }
 },
 "nbformat": 4,
 "nbformat_minor": 4
}
